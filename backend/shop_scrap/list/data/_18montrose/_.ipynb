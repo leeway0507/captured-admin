{
 "cells": [
  {
   "cell_type": "code",
   "execution_count": 1,
   "metadata": {},
   "outputs": [],
   "source": [
    "import pandas as pd"
   ]
  },
  {
   "cell_type": "code",
   "execution_count": 13,
   "metadata": {},
   "outputs": [],
   "source": [
    "x = pd.read_parquet(\"./20240131-102059.parquet.gzip\")"
   ]
  },
  {
   "cell_type": "code",
   "execution_count": 14,
   "metadata": {},
   "outputs": [
    {
     "data": {
      "text/html": [
       "<div>\n",
       "<style scoped>\n",
       "    .dataframe tbody tr th:only-of-type {\n",
       "        vertical-align: middle;\n",
       "    }\n",
       "\n",
       "    .dataframe tbody tr th {\n",
       "        vertical-align: top;\n",
       "    }\n",
       "\n",
       "    .dataframe thead th {\n",
       "        text-align: right;\n",
       "    }\n",
       "</style>\n",
       "<table border=\"1\" class=\"dataframe\">\n",
       "  <thead>\n",
       "    <tr style=\"text-align: right;\">\n",
       "      <th></th>\n",
       "      <th>shop_product_card_id</th>\n",
       "      <th>shop_product_name</th>\n",
       "      <th>shop_product_img_url</th>\n",
       "      <th>product_url</th>\n",
       "      <th>shop_name</th>\n",
       "      <th>brand_name</th>\n",
       "      <th>product_id</th>\n",
       "      <th>kor_price</th>\n",
       "      <th>us_price</th>\n",
       "      <th>original_price_currency</th>\n",
       "      <th>original_price</th>\n",
       "      <th>sold_out</th>\n",
       "      <th>candidate</th>\n",
       "      <th>coupon</th>\n",
       "      <th>updated_at</th>\n",
       "    </tr>\n",
       "  </thead>\n",
       "  <tbody>\n",
       "    <tr>\n",
       "      <th>334</th>\n",
       "      <td>None</td>\n",
       "      <td>stone island david tc jacket 566605</td>\n",
       "      <td>https://www.18montrose.com/images/products/566...</td>\n",
       "      <td>https://www.18montrose.com/stone-island-david-...</td>\n",
       "      <td>_18montrose-56660503</td>\n",
       "      <td>stone island-sale</td>\n",
       "      <td>None</td>\n",
       "      <td>1857000</td>\n",
       "      <td>1396.46</td>\n",
       "      <td>GBP</td>\n",
       "      <td>1099.0</td>\n",
       "      <td>False</td>\n",
       "      <td>0</td>\n",
       "      <td>0</td>\n",
       "      <td>2024-01-31 10:21:28</td>\n",
       "    </tr>\n",
       "  </tbody>\n",
       "</table>\n",
       "</div>"
      ],
      "text/plain": [
       "    shop_product_card_id                    shop_product_name  \\\n",
       "334                 None  stone island david tc jacket 566605   \n",
       "\n",
       "                                  shop_product_img_url  \\\n",
       "334  https://www.18montrose.com/images/products/566...   \n",
       "\n",
       "                                           product_url             shop_name  \\\n",
       "334  https://www.18montrose.com/stone-island-david-...  _18montrose-56660503   \n",
       "\n",
       "            brand_name product_id  kor_price  us_price  \\\n",
       "334  stone island-sale       None    1857000   1396.46   \n",
       "\n",
       "    original_price_currency  original_price  sold_out  candidate  coupon  \\\n",
       "334                     GBP          1099.0     False          0       0   \n",
       "\n",
       "             updated_at  \n",
       "334 2024-01-31 10:21:28  "
      ]
     },
     "execution_count": 14,
     "metadata": {},
     "output_type": "execute_result"
    }
   ],
   "source": [
    "x[x.shop_product_name.str.contains(\"david tc jacket\")]"
   ]
  }
 ],
 "metadata": {
  "kernelspec": {
   "display_name": "Python 3",
   "language": "python",
   "name": "python3"
  },
  "language_info": {
   "codemirror_mode": {
    "name": "ipython",
    "version": 3
   },
   "file_extension": ".py",
   "mimetype": "text/x-python",
   "name": "python",
   "nbconvert_exporter": "python",
   "pygments_lexer": "ipython3",
   "version": "3.11.6"
  }
 },
 "nbformat": 4,
 "nbformat_minor": 2
}
