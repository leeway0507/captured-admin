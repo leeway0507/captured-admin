{
 "cells": [
  {
   "cell_type": "code",
   "execution_count": 2,
   "metadata": {},
   "outputs": [],
   "source": [
    "import pandas as pd\n",
    "\n",
    "\n",
    "data = pd.read_json(\"brand_list.json\")"
   ]
  },
  {
   "cell_type": "code",
   "execution_count": 3,
   "metadata": {},
   "outputs": [
    {
     "data": {
      "text/plain": [
       "array(['18montrose', '24s', '24s_w', '43einhalb', 'aboutyou',\n",
       "       'abovethecloudsstore', 'adidas kor official', 'adidas uk official',\n",
       "       'afew-store', 'allikestore', 'aphrodite1994', 'asos',\n",
       "       'asphaltgold', 'atmos-tokyo', 'baltini', 'bdgastore', 'beachim',\n",
       "       'beamhill', 'calicoclubstore', 'capsuletoronto', 'carnivalbkk',\n",
       "       'cettire', 'cliquelyf', 'club21', 'cncpts', 'coggles',\n",
       "       'consortium', 'cotwohk', 'cotyle', 'crossoverconceptstore',\n",
       "       'cultizm', 'def-shop', 'dtlr', 'end_clothing', 'farfetch_w',\n",
       "       'fast-forward-fashion', 'feature_w', 'finishline', 'flatspot',\n",
       "       'footasylum', 'footdistrict', 'footpatrol', 'gravitypope_m',\n",
       "       'gravitypope_w', 'hanon-shop', 'harresoe', 'havenshop',\n",
       "       'highsandlows_m', 'highsandlows_w', 'incu_m', 'incu_w', 'kith_m',\n",
       "       'kith_w', 'knowear', 'laced', 'lelabostore', 'mrporter',\n",
       "       'nakedcph', 'net-a-porter', 'nittygrittystore',\n",
       "       'nittygrittystore_w', 'oallery', 'offspring', 'oluxury_m',\n",
       "       'oluxury_w', 'oneblockdown', 'playgroundshop', 'rendez-vous-store',\n",
       "       'rezetstore', 'salomon official', 'selfridges', 'sevenstore',\n",
       "       'shoechapter', 'shooos', 'sivasdescalzo', 'size', 'slamjam',\n",
       "       'sneakersnstuff', 'solebox', 'solestop', 'ssense', 'ssense_m',\n",
       "       'ssense_w', 'stashedsf', 'suppastore', 'supplystore',\n",
       "       'the-broken-arm', 'thehipstore', 'theoutnet', 'theoutnet_w',\n",
       "       'tres-bien', 'upforward', 'uptherestore', 'urbanindustry',\n",
       "       'urbanstaroma', 'usc', 'usgstore_m', 'vooberlin', 'woodwood',\n",
       "       'workingclassheroes', 'xhibition', 'yoox_m', 'yoox_w', 'zalando',\n",
       "       'zappos'], dtype=object)"
      ]
     },
     "execution_count": 3,
     "metadata": {},
     "output_type": "execute_result"
    }
   ],
   "source": [
    "data['shop_name'].unique()"
   ]
  },
  {
   "cell_type": "code",
   "execution_count": 5,
   "metadata": {},
   "outputs": [
    {
     "data": {
      "text/html": [
       "<div>\n",
       "<style scoped>\n",
       "    .dataframe tbody tr th:only-of-type {\n",
       "        vertical-align: middle;\n",
       "    }\n",
       "\n",
       "    .dataframe tbody tr th {\n",
       "        vertical-align: top;\n",
       "    }\n",
       "\n",
       "    .dataframe thead th {\n",
       "        text-align: right;\n",
       "    }\n",
       "</style>\n",
       "<table border=\"1\" class=\"dataframe\">\n",
       "  <thead>\n",
       "    <tr style=\"text-align: right;\">\n",
       "      <th></th>\n",
       "      <th>shop_name</th>\n",
       "      <th>brand_name</th>\n",
       "      <th>brand_url</th>\n",
       "    </tr>\n",
       "  </thead>\n",
       "  <tbody>\n",
       "    <tr>\n",
       "      <th>7002</th>\n",
       "      <td>end_clothing</td>\n",
       "      <td>032c</td>\n",
       "      <td>https://www.endclothing.com/kr/brands/032c</td>\n",
       "    </tr>\n",
       "    <tr>\n",
       "      <th>7003</th>\n",
       "      <td>end_clothing</td>\n",
       "      <td>1017 alyx 9sm</td>\n",
       "      <td>https://www.endclothing.com/kr/brands/1017-aly...</td>\n",
       "    </tr>\n",
       "    <tr>\n",
       "      <th>7004</th>\n",
       "      <td>end_clothing</td>\n",
       "      <td>3.paradis</td>\n",
       "      <td>https://www.endclothing.com/kr/brands/3-paradis</td>\n",
       "    </tr>\n",
       "    <tr>\n",
       "      <th>7005</th>\n",
       "      <td>end_clothing</td>\n",
       "      <td>424</td>\n",
       "      <td>https://www.endclothing.com/kr/brands/424</td>\n",
       "    </tr>\n",
       "    <tr>\n",
       "      <th>7006</th>\n",
       "      <td>end_clothing</td>\n",
       "      <td>66° north</td>\n",
       "      <td>https://www.endclothing.com/kr/brands/66-north</td>\n",
       "    </tr>\n",
       "    <tr>\n",
       "      <th>...</th>\n",
       "      <td>...</td>\n",
       "      <td>...</td>\n",
       "      <td>...</td>\n",
       "    </tr>\n",
       "    <tr>\n",
       "      <th>7666</th>\n",
       "      <td>end_clothing</td>\n",
       "      <td>wtaps</td>\n",
       "      <td>https://www.endclothing.com/kr/brands/wtaps</td>\n",
       "    </tr>\n",
       "    <tr>\n",
       "      <th>7667</th>\n",
       "      <td>end_clothing</td>\n",
       "      <td>y-3</td>\n",
       "      <td>https://www.endclothing.com/kr/brands/y-3</td>\n",
       "    </tr>\n",
       "    <tr>\n",
       "      <th>7668</th>\n",
       "      <td>end_clothing</td>\n",
       "      <td>ymc</td>\n",
       "      <td>https://www.endclothing.com/kr/brands/ymc</td>\n",
       "    </tr>\n",
       "    <tr>\n",
       "      <th>7669</th>\n",
       "      <td>end_clothing</td>\n",
       "      <td>yod and co</td>\n",
       "      <td>https://www.endclothing.com/kr/brands/yod-and-co</td>\n",
       "    </tr>\n",
       "    <tr>\n",
       "      <th>7670</th>\n",
       "      <td>end_clothing</td>\n",
       "      <td>yogi</td>\n",
       "      <td>https://www.endclothing.com/kr/brands/yogi</td>\n",
       "    </tr>\n",
       "  </tbody>\n",
       "</table>\n",
       "<p>669 rows × 3 columns</p>\n",
       "</div>"
      ],
      "text/plain": [
       "         shop_name     brand_name  \\\n",
       "7002  end_clothing           032c   \n",
       "7003  end_clothing  1017 alyx 9sm   \n",
       "7004  end_clothing      3.paradis   \n",
       "7005  end_clothing            424   \n",
       "7006  end_clothing      66° north   \n",
       "...            ...            ...   \n",
       "7666  end_clothing          wtaps   \n",
       "7667  end_clothing            y-3   \n",
       "7668  end_clothing            ymc   \n",
       "7669  end_clothing     yod and co   \n",
       "7670  end_clothing           yogi   \n",
       "\n",
       "                                              brand_url  \n",
       "7002         https://www.endclothing.com/kr/brands/032c  \n",
       "7003  https://www.endclothing.com/kr/brands/1017-aly...  \n",
       "7004    https://www.endclothing.com/kr/brands/3-paradis  \n",
       "7005          https://www.endclothing.com/kr/brands/424  \n",
       "7006     https://www.endclothing.com/kr/brands/66-north  \n",
       "...                                                 ...  \n",
       "7666        https://www.endclothing.com/kr/brands/wtaps  \n",
       "7667          https://www.endclothing.com/kr/brands/y-3  \n",
       "7668          https://www.endclothing.com/kr/brands/ymc  \n",
       "7669   https://www.endclothing.com/kr/brands/yod-and-co  \n",
       "7670         https://www.endclothing.com/kr/brands/yogi  \n",
       "\n",
       "[669 rows x 3 columns]"
      ]
     },
     "execution_count": 5,
     "metadata": {},
     "output_type": "execute_result"
    }
   ],
   "source": [
    "brand_name = 'end_clothing'\n",
    "shop_data = data[data['shop_name'] == brand_name]\n",
    "\n",
    "shop_data"
   ]
  },
  {
   "cell_type": "code",
   "execution_count": null,
   "metadata": {},
   "outputs": [],
   "source": [
    "shop_data.brand_name.unique()"
   ]
  },
  {
   "cell_type": "code",
   "execution_count": 7,
   "metadata": {},
   "outputs": [
    {
     "name": "stderr",
     "output_type": "stream",
     "text": [
      "/var/folders/rh/7xnmdybn7778kzq927hfcn8c0000gn/T/ipykernel_89086/2600616681.py:1: SettingWithCopyWarning: \n",
      "A value is trying to be set on a copy of a slice from a DataFrame.\n",
      "Try using .loc[row_indexer,col_indexer] = value instead\n",
      "\n",
      "See the caveats in the documentation: https://pandas.pydata.org/pandas-docs/stable/user_guide/indexing.html#returning-a-view-versus-a-copy\n",
      "  shop_data[\"shop_name\"] = \"endclothing\"\n"
     ]
    }
   ],
   "source": [
    "shop_data[\"shop_name\"] = \"endclothing\"\n",
    "\n",
    "# shop_data = shop_data[shop_data[\"brand_name\"].isin([\"adidas originals\",\"arc'teryx\",\"columbia\",\"helinox\",\"new balance\",\"patagonia\",\"obey clothing\",\"the north face\",\"stussy\",\"yeti\",\"keen\"])]"
   ]
  },
  {
   "cell_type": "code",
   "execution_count": 11,
   "metadata": {},
   "outputs": [],
   "source": [
    "\n",
    "dict_data = shop_data.to_dict('records')\n",
    "brand_list = shop_data.brand_name.tolist()\n",
    "\n",
    "brand_data = {\"brand_list\":brand_list,\"data\":dict_data}\n",
    "\n",
    "import json \n",
    "with open(f\"{brand_name}.json\",\"w\") as f :\n",
    "    f.write(json.dumps(brand_data,ensure_ascii=False))\n"
   ]
  },
  {
   "cell_type": "code",
   "execution_count": null,
   "metadata": {},
   "outputs": [],
   "source": []
  }
 ],
 "metadata": {
  "kernelspec": {
   "display_name": "Python 3",
   "language": "python",
   "name": "python3"
  },
  "language_info": {
   "codemirror_mode": {
    "name": "ipython",
    "version": 3
   },
   "file_extension": ".py",
   "mimetype": "text/x-python",
   "name": "python",
   "nbconvert_exporter": "python",
   "pygments_lexer": "ipython3",
   "version": "3.11.6"
  }
 },
 "nbformat": 4,
 "nbformat_minor": 2
}
