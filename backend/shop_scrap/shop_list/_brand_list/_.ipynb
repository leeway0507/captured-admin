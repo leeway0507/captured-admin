{
 "cells": [
  {
   "cell_type": "code",
   "execution_count": 1,
   "metadata": {},
   "outputs": [],
   "source": [
    "import pandas as pd\n",
    "\n",
    "\n",
    "data = pd.read_json(\"brand_list.json\")"
   ]
  },
  {
   "cell_type": "code",
   "execution_count": 2,
   "metadata": {},
   "outputs": [
    {
     "data": {
      "text/plain": [
       "array(['18montrose', '24s', '24s_w', '43einhalb', 'aboutyou',\n",
       "       'abovethecloudsstore', 'adidas kor official', 'adidas uk official',\n",
       "       'afew-store', 'allikestore', 'aphrodite1994', 'asos',\n",
       "       'asphaltgold', 'atmos-tokyo', 'baltini', 'bdgastore', 'beachim',\n",
       "       'beamhill', 'calicoclubstore', 'capsuletoronto', 'carnivalbkk',\n",
       "       'cettire', 'cliquelyf', 'club21', 'cncpts', 'coggles',\n",
       "       'consortium', 'cotwohk', 'cotyle', 'crossoverconceptstore',\n",
       "       'cultizm', 'def-shop', 'dtlr', 'end_clothing', 'farfetch_w',\n",
       "       'fast-forward-fashion', 'feature_w', 'finishline', 'flatspot',\n",
       "       'footasylum', 'footdistrict', 'footpatrol', 'gravitypope_m',\n",
       "       'gravitypope_w', 'hanon-shop', 'harresoe', 'havenshop',\n",
       "       'highsandlows_m', 'highsandlows_w', 'incu_m', 'incu_w', 'kith_m',\n",
       "       'kith_w', 'knowear', 'laced', 'lelabostore', 'mrporter',\n",
       "       'nakedcph', 'net-a-porter', 'nittygrittystore',\n",
       "       'nittygrittystore_w', 'oallery', 'offspring', 'oluxury_m',\n",
       "       'oluxury_w', 'oneblockdown', 'playgroundshop', 'rendez-vous-store',\n",
       "       'rezetstore', 'salomon official', 'selfridges', 'sevenstore',\n",
       "       'shoechapter', 'shooos', 'sivasdescalzo', 'size', 'slamjam',\n",
       "       'sneakersnstuff', 'solebox', 'solestop', 'ssense', 'ssense_m',\n",
       "       'ssense_w', 'stashedsf', 'suppastore', 'supplystore',\n",
       "       'the-broken-arm', 'thehipstore', 'theoutnet', 'theoutnet_w',\n",
       "       'tres-bien', 'upforward', 'uptherestore', 'urbanindustry',\n",
       "       'urbanstaroma', 'usc', 'usgstore_m', 'vooberlin', 'woodwood',\n",
       "       'workingclassheroes', 'xhibition', 'yoox_m', 'yoox_w', 'zalando',\n",
       "       'zappos'], dtype=object)"
      ]
     },
     "execution_count": 2,
     "metadata": {},
     "output_type": "execute_result"
    }
   ],
   "source": [
    "data['shop_name'].unique()"
   ]
  },
  {
   "cell_type": "code",
   "execution_count": 5,
   "metadata": {},
   "outputs": [
    {
     "data": {
      "text/html": [
       "<div>\n",
       "<style scoped>\n",
       "    .dataframe tbody tr th:only-of-type {\n",
       "        vertical-align: middle;\n",
       "    }\n",
       "\n",
       "    .dataframe tbody tr th {\n",
       "        vertical-align: top;\n",
       "    }\n",
       "\n",
       "    .dataframe thead th {\n",
       "        text-align: right;\n",
       "    }\n",
       "</style>\n",
       "<table border=\"1\" class=\"dataframe\">\n",
       "  <thead>\n",
       "    <tr style=\"text-align: right;\">\n",
       "      <th></th>\n",
       "      <th>shop_name</th>\n",
       "      <th>brand_name</th>\n",
       "      <th>brand_url</th>\n",
       "    </tr>\n",
       "  </thead>\n",
       "  <tbody>\n",
       "    <tr>\n",
       "      <th>22035</th>\n",
       "      <td>urbanindustry</td>\n",
       "      <td>a. kjaerbede</td>\n",
       "      <td>https://www.urbanindustry.co.uk/collections/a-...</td>\n",
       "    </tr>\n",
       "    <tr>\n",
       "      <th>22036</th>\n",
       "      <td>urbanindustry</td>\n",
       "      <td>adidas originals</td>\n",
       "      <td>https://www.urbanindustry.co.uk/collections/ad...</td>\n",
       "    </tr>\n",
       "    <tr>\n",
       "      <th>22037</th>\n",
       "      <td>urbanindustry</td>\n",
       "      <td>adsum</td>\n",
       "      <td>https://www.urbanindustry.co.uk/collections/adsum</td>\n",
       "    </tr>\n",
       "    <tr>\n",
       "      <th>22038</th>\n",
       "      <td>urbanindustry</td>\n",
       "      <td>afield out</td>\n",
       "      <td>https://www.urbanindustry.co.uk/collections/af...</td>\n",
       "    </tr>\n",
       "    <tr>\n",
       "      <th>22039</th>\n",
       "      <td>urbanindustry</td>\n",
       "      <td>albam</td>\n",
       "      <td>https://www.urbanindustry.co.uk/collections/albam</td>\n",
       "    </tr>\n",
       "    <tr>\n",
       "      <th>...</th>\n",
       "      <td>...</td>\n",
       "      <td>...</td>\n",
       "      <td>...</td>\n",
       "    </tr>\n",
       "    <tr>\n",
       "      <th>22139</th>\n",
       "      <td>urbanindustry</td>\n",
       "      <td>utopian projects</td>\n",
       "      <td>https://www.urbanindustry.co.uk/collections/ut...</td>\n",
       "    </tr>\n",
       "    <tr>\n",
       "      <th>22140</th>\n",
       "      <td>urbanindustry</td>\n",
       "      <td>vans</td>\n",
       "      <td>https://www.urbanindustry.co.uk/collections/vans</td>\n",
       "    </tr>\n",
       "    <tr>\n",
       "      <th>22141</th>\n",
       "      <td>urbanindustry</td>\n",
       "      <td>wild things</td>\n",
       "      <td>https://www.urbanindustry.co.uk/collections/wi...</td>\n",
       "    </tr>\n",
       "    <tr>\n",
       "      <th>22142</th>\n",
       "      <td>urbanindustry</td>\n",
       "      <td>yeti</td>\n",
       "      <td>https://www.urbanindustry.co.uk/collections/yeti</td>\n",
       "    </tr>\n",
       "    <tr>\n",
       "      <th>22143</th>\n",
       "      <td>urbanindustry</td>\n",
       "      <td>yogi footwear</td>\n",
       "      <td>https://www.urbanindustry.co.uk/collections/yo...</td>\n",
       "    </tr>\n",
       "  </tbody>\n",
       "</table>\n",
       "<p>109 rows × 3 columns</p>\n",
       "</div>"
      ],
      "text/plain": [
       "           shop_name        brand_name  \\\n",
       "22035  urbanindustry      a. kjaerbede   \n",
       "22036  urbanindustry  adidas originals   \n",
       "22037  urbanindustry             adsum   \n",
       "22038  urbanindustry        afield out   \n",
       "22039  urbanindustry             albam   \n",
       "...              ...               ...   \n",
       "22139  urbanindustry  utopian projects   \n",
       "22140  urbanindustry              vans   \n",
       "22141  urbanindustry       wild things   \n",
       "22142  urbanindustry              yeti   \n",
       "22143  urbanindustry     yogi footwear   \n",
       "\n",
       "                                               brand_url  \n",
       "22035  https://www.urbanindustry.co.uk/collections/a-...  \n",
       "22036  https://www.urbanindustry.co.uk/collections/ad...  \n",
       "22037  https://www.urbanindustry.co.uk/collections/adsum  \n",
       "22038  https://www.urbanindustry.co.uk/collections/af...  \n",
       "22039  https://www.urbanindustry.co.uk/collections/albam  \n",
       "...                                                  ...  \n",
       "22139  https://www.urbanindustry.co.uk/collections/ut...  \n",
       "22140   https://www.urbanindustry.co.uk/collections/vans  \n",
       "22141  https://www.urbanindustry.co.uk/collections/wi...  \n",
       "22142   https://www.urbanindustry.co.uk/collections/yeti  \n",
       "22143  https://www.urbanindustry.co.uk/collections/yo...  \n",
       "\n",
       "[109 rows x 3 columns]"
      ]
     },
     "execution_count": 5,
     "metadata": {},
     "output_type": "execute_result"
    }
   ],
   "source": [
    "brand_name = 'urbanindustry'\n",
    "shop_data = data[data['shop_name'] == brand_name]\n",
    "\n",
    "shop_data"
   ]
  },
  {
   "cell_type": "code",
   "execution_count": 9,
   "metadata": {},
   "outputs": [
    {
     "data": {
      "text/plain": [
       "array(['a. kjaerbede', 'adidas originals', 'adsum', 'afield out', 'albam',\n",
       "       'and wander', \"anderson's belts\", 'anonymous ism', \"arc'teryx\",\n",
       "       'battenwear', 'beams plus', 'brixton', 'by parra', 'cafe mountain',\n",
       "       'carhartt wip', 'carrier goods', 'chaco', 'champion reverse weave',\n",
       "       'clarks originals', 'columbia', 'converse', 'corridor', 'cotopaxi',\n",
       "       'cremate london', 'danner boots', 'dickies', 'dispatches',\n",
       "       'druthers', 'dsptch', 'earl of east', 'edwin', 'field notes',\n",
       "       'filson', 'fjallraven', 'folk', 'frizmworks', 'goldwin',\n",
       "       'good & well', 'good measure', 'gramicci', 'gregory packs',\n",
       "       'gurus', 'haeckels', 'haglofs', 'helinox', 'heresy', 'jason markk',\n",
       "       'karhu', 'kavu', 'keen', 'kinto', 'klattermusen', 'kuumba',\n",
       "       'levis®', 'luxfort', 'manastash', 'merrell 1trl', 'millet',\n",
       "       'mizuno', 'monokel eyewear', 'muro scents co.', 'mystery ranch',\n",
       "       'nalgene', 'nanga', 'new balance', 'nike', 'nike acg',\n",
       "       'nike apparel', 'nike sb', 'nike swim', 'norse projects',\n",
       "       'novesta', 'obey clothing', 'on running', 'oscar deen', 'parlez',\n",
       "       'patagonia', 'pendleton', 'piilgrim', 'poler', 'pompeii', 'rab',\n",
       "       'red wing shoes', 'reebok', 'rototo', 'rumpl', 'salt and stone',\n",
       "       'service works', 'sneaker freaker magazine', 'sneakers er',\n",
       "       'snow peak', 'soar running', 'stan ray', 'stance', 'stussy',\n",
       "       'subu', 'taion', 'teva', 'the north face', 'topo designs',\n",
       "       'uniform bridge', 'universal works', 'urban industry', 'uskees',\n",
       "       'utopian projects', 'vans', 'wild things', 'yeti', 'yogi footwear'],\n",
       "      dtype=object)"
      ]
     },
     "execution_count": 9,
     "metadata": {},
     "output_type": "execute_result"
    }
   ],
   "source": [
    "shop_data.brand_name.unique()"
   ]
  },
  {
   "cell_type": "code",
   "execution_count": 10,
   "metadata": {},
   "outputs": [
    {
     "name": "stderr",
     "output_type": "stream",
     "text": [
      "/var/folders/rh/7xnmdybn7778kzq927hfcn8c0000gn/T/ipykernel_66754/3394095994.py:1: SettingWithCopyWarning: \n",
      "A value is trying to be set on a copy of a slice from a DataFrame.\n",
      "Try using .loc[row_indexer,col_indexer] = value instead\n",
      "\n",
      "See the caveats in the documentation: https://pandas.pydata.org/pandas-docs/stable/user_guide/indexing.html#returning-a-view-versus-a-copy\n",
      "  shop_data[\"shop_name\"] = \"urban_industry\"\n"
     ]
    }
   ],
   "source": [
    "shop_data[\"shop_name\"] = \"urban_industry\"\n",
    "\n",
    "shop_data = shop_data[shop_data[\"brand_name\"].isin([\"adidas originals\",\"arc'teryx\",\"columbia\",\"helinox\",\"new balance\",\"patagonia\",\"obey clothing\",\"the north face\",\"stussy\",\"yeti\",\"keen\"])]"
   ]
  },
  {
   "cell_type": "code",
   "execution_count": 11,
   "metadata": {},
   "outputs": [],
   "source": [
    "\n",
    "dict_data = shop_data.to_dict('records')\n",
    "brand_list = shop_data.brand_name.tolist()\n",
    "\n",
    "brand_data = {\"brand_list\":brand_list,\"data\":dict_data}\n",
    "\n",
    "import json \n",
    "with open(f\"{brand_name}.json\",\"w\") as f :\n",
    "    f.write(json.dumps(brand_data,ensure_ascii=False))\n"
   ]
  },
  {
   "cell_type": "code",
   "execution_count": null,
   "metadata": {},
   "outputs": [],
   "source": []
  }
 ],
 "metadata": {
  "kernelspec": {
   "display_name": "Python 3",
   "language": "python",
   "name": "python3"
  },
  "language_info": {
   "codemirror_mode": {
    "name": "ipython",
    "version": 3
   },
   "file_extension": ".py",
   "mimetype": "text/x-python",
   "name": "python",
   "nbconvert_exporter": "python",
   "pygments_lexer": "ipython3",
   "version": "3.11.6"
  }
 },
 "nbformat": 4,
 "nbformat_minor": 2
}
