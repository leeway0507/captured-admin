{
 "cells": [
  {
   "cell_type": "code",
   "execution_count": 1,
   "metadata": {},
   "outputs": [],
   "source": [
    "import os \n",
    "os.chdir(\"../../../../../\")\n"
   ]
  },
  {
   "cell_type": "code",
   "execution_count": 2,
   "metadata": {},
   "outputs": [],
   "source": [
    "from components.dev.utils.temp_file_manager import TempFileManager"
   ]
  },
  {
   "cell_type": "code",
   "execution_count": 6,
   "metadata": {},
   "outputs": [],
   "source": [
    "tfm = TempFileManager('shop_page')\n",
    "\n",
    "raw_data = await tfm.load_temp_file(\"product_card_page\")"
   ]
  },
  {
   "cell_type": "code",
   "execution_count": 7,
   "metadata": {},
   "outputs": [],
   "source": [
    "from model.db_model_shop import ShopProductSizeSchema\n",
    "if isinstance(raw_data, tuple):\n",
    "    \"\"\"\n",
    "    여러 브랜드 수집 시 list_data type은 tuple임.\n",
    "    브랜드 하나 수집 시 list_data type은 list임.\n",
    "    \"\"\"\n",
    "    from itertools import chain\n",
    "\n",
    "    raw_data = list(chain(*raw_data))\n",
    "\n",
    "size_schema = [ShopProductSizeSchema(**row).model_dump() for row in raw_data]\n",
    "\n"
   ]
  },
  {
   "cell_type": "code",
   "execution_count": 9,
   "metadata": {},
   "outputs": [
    {
     "data": {
      "text/plain": [
       "['20231201-124447', '20231206-212359', '20231219-195101']"
      ]
     },
     "execution_count": 9,
     "metadata": {},
     "output_type": "execute_result"
    }
   ],
   "source": [
    "x = ['20231206-212359', '20231201-124447', '20231219-195101']\n",
    "\n",
    "x.sort()\n",
    "\n",
    "x"
   ]
  }
 ],
 "metadata": {
  "kernelspec": {
   "display_name": "Python 3",
   "language": "python",
   "name": "python3"
  },
  "language_info": {
   "codemirror_mode": {
    "name": "ipython",
    "version": 3
   },
   "file_extension": ".py",
   "mimetype": "text/x-python",
   "name": "python",
   "nbconvert_exporter": "python",
   "pygments_lexer": "ipython3",
   "version": "3.11.6"
  }
 },
 "nbformat": 4,
 "nbformat_minor": 2
}
