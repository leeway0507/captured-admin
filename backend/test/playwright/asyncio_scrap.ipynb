{
 "cells": [
  {
   "attachments": {},
   "cell_type": "markdown",
   "metadata": {},
   "source": [
    "### ADD Brand List of Shopinng Mall"
   ]
  },
  {
   "cell_type": "code",
   "execution_count": 1,
   "metadata": {},
   "outputs": [],
   "source": [
    "import sys\n",
    "\n",
    "sys.path.append(\"../../\")"
   ]
  },
  {
   "cell_type": "code",
   "execution_count": 2,
   "metadata": {},
   "outputs": [],
   "source": [
    "# in Jupyter\n",
    "import re\n",
    "import sys\n",
    "import os\n",
    "from random import randint\n",
    "from typing import List, Dict, Any, Callable\n",
    "\n",
    "import asyncio \n",
    "import pandas as pd\n",
    "from bs4 import BeautifulSoup\n",
    "from playwright.async_api import async_playwright, Page, TimeoutError as PlaywrightTimeoutError \n",
    "\n",
    "\n",
    "\n",
    "pw = await async_playwright().start()\n",
    "browser = await pw.firefox.launch(headless=False)\n",
    "page = await browser.new_page()\n",
    "\n",
    "\n",
    "page.set_default_timeout(15000)\n",
    "\n",
    "async def _load_page( page: Page, url):\n",
    "    \"\"\"페이지 로드\"\"\"\n",
    "    await asyncio.sleep(1)\n",
    "    await page.goto(url)\n",
    "    await page.wait_for_load_state(state=\"networkidle\")\n",
    "    await page.wait_for_timeout(1000)\n",
    "    return page\n"
   ]
  },
  {
   "cell_type": "code",
   "execution_count": 3,
   "metadata": {},
   "outputs": [
    {
     "data": {
      "text/plain": [
       "<Page url='https://kream.co.kr/login'>"
      ]
     },
     "execution_count": 3,
     "metadata": {},
     "output_type": "execute_result"
    }
   ],
   "source": [
    "await _load_page(page, \"https://kream.co.kr/login\")"
   ]
  },
  {
   "cell_type": "code",
   "execution_count": 6,
   "metadata": {},
   "outputs": [],
   "source": [
    "async def save_cookies(page):\n",
    "    # Get cookies from the current page\n",
    "    cookies = await page.context.cookies()\n",
    "\n",
    "    # Save cookies to a file or database\n",
    "    # In this example, cookies are saved to a file named 'cookies.json'\n",
    "    with open('../../router/dev/kream/cookie/cookies.json', 'w') as file:\n",
    "        file.write(str(cookies))\n"
   ]
  },
  {
   "cell_type": "code",
   "execution_count": 4,
   "metadata": {},
   "outputs": [
    {
     "data": {
      "text/plain": [
       "<Response url='https://kream.co.kr/' request=<Request url='https://kream.co.kr/' method='GET'>>"
      ]
     },
     "execution_count": 4,
     "metadata": {},
     "output_type": "execute_result"
    }
   ],
   "source": [
    "async def load_cookies(page):\n",
    "    # Load cookies from a file or database\n",
    "    # In this example, cookies are loaded from a file named 'cookies.json'\n",
    "    \n",
    "    with open('../../router/dev/kream/cookie/cookies.json', 'r') as file:\n",
    "        cookies = eval(file.read())\n",
    "\n",
    "    # Set cookies in the current page\n",
    "    await page.context.add_cookies(cookies)\n",
    "\n",
    "await load_cookies(page)\n",
    "await page.goto(\"https://kream.co.kr\")"
   ]
  },
  {
   "cell_type": "code",
   "execution_count": null,
   "metadata": {},
   "outputs": [],
   "source": [
    "from datetime import date, datetime\n",
    "\n",
    "async def _scrap_trading_volume_from(\n",
    "    page: Page, target_date: date, kream_id: int, **_kwargs\n",
    "):\n",
    "    volume_btn = \"a[class='btn outlinegrey full medium']\"\n",
    "    await page.wait_for_selector(volume_btn, timeout=5000)\n",
    "\n",
    "    trading_volume_button = await page.query_selector(volume_btn)\n",
    "\n",
    "    assert trading_volume_button, \"trading_volume_button not found\"\n",
    "    await trading_volume_button.click()\n",
    "\n",
    "    price_btn = \"div[class='price_body']\"\n",
    "    try : \n",
    "        await page.wait_for_selector(price_btn, timeout=5000)\n",
    "    except Exception as e:\n",
    "        print(f\"{kream_id} : 체결내역 더보기가 없는 제품으로 추정\")\n",
    "        return []\n",
    "\n",
    "\n",
    "    modal = await page.query_selector(price_btn)\n",
    "    assert modal, \"modal not found\"\n",
    "\n",
    "    # scroll until target_date\n",
    "    i = 0\n",
    "    start = 0\n",
    "    end = 1\n",
    "    volumes = []\n",
    "    while start < end and i <= 20:\n",
    "        i += 1\n",
    "        start = end\n",
    "        await asyncio.sleep(1)\n",
    "        end = await page.evaluate(\"Array.from(document.querySelectorAll('.list_txt.is_active')).length\")\n",
    "        date_str= await page.evaluate(f\"Array.from(document.querySelectorAll('.list_txt.is_active')).slice(-1)[0].innerText\")\n",
    "        last_date = datetime.strptime(date_str, \"%y/%m/%d\").date()\n",
    "\n",
    "        print(f\"kream_id:{kream_id},last_date : {last_date}, target_date : {target_date}, end : {end}\")\n",
    "\n",
    "        if target_date < last_date:\n",
    "            scroll_eval = (\n",
    "                \"(async () => { document.querySelector('.price_body').scrollBy(0, 5000); })()\"\n",
    "            )\n",
    "            await page.evaluate(scroll_eval)\n",
    "        else:\n",
    "            break\n",
    "\n",
    "    if len(volumes) == 0:\n",
    "        return []\n",
    "    \n",
    "await _scrap_trading_volume_from(page, date(2023, 10, 24), 10)"
   ]
  },
  {
   "cell_type": "code",
   "execution_count": 9,
   "metadata": {},
   "outputs": [
    {
     "data": {
      "text/plain": [
       "{'x': 'asd', 'y': 'asd'}"
      ]
     },
     "execution_count": 9,
     "metadata": {},
     "output_type": "execute_result"
    }
   ],
   "source": [
    "x = {'x':'asd'}\n",
    "\n",
    "x.update({'y':'asd'})\n",
    "\n",
    "x"
   ]
  }
 ],
 "metadata": {
  "kernelspec": {
   "display_name": "Python 3",
   "language": "python",
   "name": "python3"
  },
  "language_info": {
   "codemirror_mode": {
    "name": "ipython",
    "version": 3
   },
   "file_extension": ".py",
   "mimetype": "text/x-python",
   "name": "python",
   "nbconvert_exporter": "python",
   "pygments_lexer": "ipython3",
   "version": "3.11.5"
  },
  "orig_nbformat": 4
 },
 "nbformat": 4,
 "nbformat_minor": 2
}
