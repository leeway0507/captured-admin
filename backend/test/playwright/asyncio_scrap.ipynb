{
 "cells": [
  {
   "attachments": {},
   "cell_type": "markdown",
   "metadata": {},
   "source": [
    "### ADD Brand List of Shopinng Mall"
   ]
  },
  {
   "cell_type": "code",
   "execution_count": 1,
   "metadata": {},
   "outputs": [],
   "source": [
    "import sys\n",
    "\n",
    "sys.path.append(\"../../\")"
   ]
  },
  {
   "cell_type": "code",
   "execution_count": 1,
   "metadata": {},
   "outputs": [],
   "source": [
    "# in Jupyter\n",
    "import re\n",
    "import sys\n",
    "import os\n",
    "from random import randint\n",
    "from typing import List, Dict, Any, Callable\n",
    "\n",
    "import asyncio \n",
    "import pandas as pd\n",
    "from bs4 import BeautifulSoup\n",
    "from playwright.async_api import async_playwright, Page, TimeoutError as PlaywrightTimeoutError \n",
    "\n",
    "\n",
    "\n",
    "pw = await async_playwright().start()\n",
    "browser = await pw.firefox.launch(headless=False)\n",
    "page = await browser.new_page()\n",
    "\n",
    "\n",
    "page.set_default_timeout(15000)\n",
    "\n",
    "async def _load_page( page: Page, url):\n",
    "    \"\"\"페이지 로드\"\"\"\n",
    "    await asyncio.sleep(1)\n",
    "    await page.goto(url)\n",
    "    await page.wait_for_load_state(state=\"networkidle\")\n",
    "    await page.wait_for_timeout(1000)\n",
    "    return page\n",
    "\n",
    "async def load_cookies(page):\n",
    "    # Load cookies from a file or database\n",
    "    # In this example, cookies are loaded from a file named 'cookies.json'\n",
    "    \n",
    "    with open('../../router/dev/kream/cookie/cookies.json', 'r') as file:\n",
    "        cookies = eval(file.read())\n",
    "\n",
    "    # Set cookies in the current page\n",
    "    await page.context.add_cookies(cookies)\n",
    "\n",
    "await load_cookies(page)"
   ]
  },
  {
   "cell_type": "code",
   "execution_count": 3,
   "metadata": {},
   "outputs": [],
   "source": [
    "async def load_cookies(page):\n",
    "    # Load cookies from a file or database\n",
    "    # In this example, cookies are loaded from a file named 'cookies.json'\n",
    "    \n",
    "    with open('../../router/dev/kream/cookie/cookies.json', 'r') as file:\n",
    "        cookies = eval(file.read())\n",
    "\n",
    "    # Set cookies in the current page\n",
    "    await page.context.add_cookies(cookies)\n",
    "\n",
    "await load_cookies(page)"
   ]
  },
  {
   "cell_type": "markdown",
   "metadata": {},
   "source": [
    "### shop"
   ]
  },
  {
   "cell_type": "code",
   "execution_count": 38,
   "metadata": {},
   "outputs": [],
   "source": [
    "url = \"https://www.consortium.co.uk/adidas-originals-adimatic-panton-core-black-gum-3-hq6903.html\"\n",
    "\n",
    "page = await _load_page(page, url)"
   ]
  },
  {
   "cell_type": "code",
   "execution_count": 39,
   "metadata": {},
   "outputs": [],
   "source": [
    "size_query= await page.query_selector_all('div.input-box>select > option')\n",
    "\n",
    "size_list= ([await s.inner_text() for s in size_query ])\n",
    "size_list = [size for size in size_list if 'Out of Stock' not in size][1:]"
   ]
  },
  {
   "cell_type": "code",
   "execution_count": 40,
   "metadata": {},
   "outputs": [
    {
     "data": {
      "text/plain": [
       "['UK 4',\n",
       " 'UK 7',\n",
       " 'UK 8',\n",
       " 'UK 8.5',\n",
       " 'UK 9',\n",
       " 'UK 9.5',\n",
       " 'UK 10',\n",
       " 'UK 10.5',\n",
       " 'UK 11',\n",
       " 'UK 12']"
      ]
     },
     "execution_count": 40,
     "metadata": {},
     "output_type": "execute_result"
    }
   ],
   "source": [
    "size_list"
   ]
  },
  {
   "cell_type": "code",
   "execution_count": 41,
   "metadata": {},
   "outputs": [],
   "source": [
    "product_id_text = await page.query_selector('//*[@id=\"detailsPanel\"]/div')\n",
    "product_id_text = await product_id_text.inner_text()"
   ]
  },
  {
   "cell_type": "code",
   "execution_count": 48,
   "metadata": {},
   "outputs": [],
   "source": [
    "text = product_id_text.lower()\n",
    "if \"product code\" in text :\n",
    "    product_id = text.split(\"product code\")[1].strip()\n",
    "else:\n",
    "    product_id = '-'\n",
    "\n",
    "product_id.upper()"
   ]
  },
  {
   "cell_type": "code",
   "execution_count": 51,
   "metadata": {},
   "outputs": [
    {
     "data": {
      "text/plain": [
       "'-'"
      ]
     },
     "execution_count": 51,
     "metadata": {},
     "output_type": "execute_result"
    }
   ],
   "source": []
  },
  {
   "cell_type": "markdown",
   "metadata": {},
   "source": [
    "### kream"
   ]
  },
  {
   "cell_type": "code",
   "execution_count": 2,
   "metadata": {},
   "outputs": [
    {
     "data": {
      "text/plain": [
       "<Page url='https://kream.co.kr/login'>"
      ]
     },
     "execution_count": 2,
     "metadata": {},
     "output_type": "execute_result"
    }
   ],
   "source": [
    "await _load_page(page, \"https://kream.co.kr/login\")"
   ]
  },
  {
   "cell_type": "code",
   "execution_count": 4,
   "metadata": {},
   "outputs": [],
   "source": [
    "async def save_cookies(page):\n",
    "    # Get cookies from the current page\n",
    "    cookies = await page.context.cookies()\n",
    "\n",
    "    # Save cookies to a file or database\n",
    "    # In this example, cookies are saved to a file named 'cookies.json'\n",
    "    with open('../../router/dev/kream/cookie/cookies.json', 'w') as file:\n",
    "        file.write(str(cookies))\n"
   ]
  },
  {
   "cell_type": "code",
   "execution_count": 3,
   "metadata": {},
   "outputs": [
    {
     "data": {
      "text/plain": [
       "<Response url='https://kream.co.kr/' request=<Request url='https://kream.co.kr/' method='GET'>>"
      ]
     },
     "execution_count": 3,
     "metadata": {},
     "output_type": "execute_result"
    }
   ],
   "source": [
    "async def load_cookies(page):\n",
    "    # Load cookies from a file or database\n",
    "    # In this example, cookies are loaded from a file named 'cookies.json'\n",
    "    \n",
    "    with open('../../router/dev/kream/cookie/cookies.json', 'r') as file:\n",
    "        cookies = eval(file.read())\n",
    "\n",
    "    # Set cookies in the current page\n",
    "    await page.context.add_cookies(cookies)\n",
    "\n",
    "await load_cookies(page)\n",
    "await page.goto(\"https://kream.co.kr\")"
   ]
  },
  {
   "cell_type": "code",
   "execution_count": 4,
   "metadata": {},
   "outputs": [
    {
     "data": {
      "text/plain": [
       "117"
      ]
     },
     "execution_count": 4,
     "metadata": {},
     "output_type": "execute_result"
    }
   ],
   "source": [
    "brand = await page.query_selector(\".wish_count_num\")\n",
    "brand = await brand.inner_text()\n",
    "int(brand.replace(\",\",\"\"))"
   ]
  },
  {
   "cell_type": "code",
   "execution_count": 15,
   "metadata": {},
   "outputs": [],
   "source": [
    "x = await page.query_selector_all(\".body_list\")\n",
    "volumes = [BeautifulSoup(await i.inner_html()) for i in x]"
   ]
  },
  {
   "cell_type": "code",
   "execution_count": null,
   "metadata": {},
   "outputs": [],
   "source": [
    "# def _extract_volume_data_from(body_list: List) -> List[List]:\n",
    "#     \"\"\"\n",
    "#     크롤링 결과 리스트에서 거래량 추출\n",
    "\n",
    "#     Args:\n",
    "#         body_list (List): 크롤링 결과 리스트\n",
    "\n",
    "#     Returns:\n",
    "#         List: 크롤링 결과 리스트로 반환\n",
    "#     \"\"\"\n",
    "\n",
    "#     def preprocess_items(tags) -> List:\n",
    "#         l = []\n",
    "#         for tag in tags.find_all(class_=\"list_txt\"):\n",
    "#             l.append(tag.text.lstrip().rstrip())\n",
    "\n",
    "#         if \"빠른\" in l[1]:\n",
    "#             l = l[:1] + l[1].split(\" \")[:1] + [True] + l[2:3].replace(\"빠른배송\", \"\").strip()\n",
    "#         else:\n",
    "#             l = l[:2] + [False] + l[2:3].replace(\"빠른배송\", \"\").strip()\n",
    "#         return l\n",
    "\n",
    "#     return [preprocess_items(tags) for tags in body_list]\n",
    "\n",
    "# body_list = _extract_volume_data_from(volumes)"
   ]
  },
  {
   "cell_type": "code",
   "execution_count": 19,
   "metadata": {},
   "outputs": [
    {
     "data": {
      "text/plain": [
       "[['EU 43', '445,000원', False, '23/11/14'],\n",
       " ['EU 41', '436,000원', False, '23/11/13'],\n",
       " ['EU 43', '450,000원', False, '23/11/13'],\n",
       " ['EU 43', '498,000원', False, '23/11/13'],\n",
       " ['EU 42', '436,000원', False, '23/11/13'],\n",
       " ['EU 41', '350,000원', False, '23/11/10'],\n",
       " ['EU 42', '419,000원', False, '23/11/09'],\n",
       " ['EU 41', '419,000원', False, '23/11/08'],\n",
       " ['EU 42', '450,000원', False, '23/11/08'],\n",
       " ['EU 44', '458,000원', False, '23/11/08'],\n",
       " ['EU 42', '423,000원', False, '23/11/08'],\n",
       " ['EU 42', '385,000원', False, '23/11/07'],\n",
       " ['EU 44', '386,000원', False, '23/11/07'],\n",
       " ['EU 40', '369,000원', False, '23/11/07'],\n",
       " ['EU 43', '549,000원', False, '23/11/07'],\n",
       " ['EU 43', '449,000원', False, '23/11/07'],\n",
       " ['EU 42', '400,000원', False, '23/11/06'],\n",
       " ['EU 41', '419,000원', False, '23/11/04'],\n",
       " ['EU 41', '459,000원', False, '23/11/01'],\n",
       " ['EU 41', '408,000원', False, '23/11/01'],\n",
       " ['EU 43', '549,000원', False, '23/10/31'],\n",
       " ['EU 43', '468,000원', False, '23/10/31'],\n",
       " ['EU 43', '460,000원', False, '23/10/30'],\n",
       " ['EU 43', '454,000원', False, '23/10/28'],\n",
       " ['EU 43', '451,000원', False, '23/10/28'],\n",
       " ['EU 42', '419,000원', False, '23/10/27'],\n",
       " ['EU 42', '410,000원', False, '23/10/26'],\n",
       " ['EU 42', '421,000원', False, '23/10/25'],\n",
       " ['EU 42', '432,000원', False, '23/10/23'],\n",
       " ['EU 40', '389,000원', False, '23/10/23'],\n",
       " ['EU 41', '437,000원', False, '23/10/23'],\n",
       " ['EU 43', '464,000원', False, '23/10/21'],\n",
       " ['EU 43', '400,000원', False, '23/10/21'],\n",
       " ['EU 43', '463,000원', False, '23/10/21'],\n",
       " ['EU 41', '426,000원', False, '23/10/20'],\n",
       " ['EU 40', '386,000원', False, '23/10/19'],\n",
       " ['EU 41', '410,000원', False, '23/10/18'],\n",
       " ['EU 42', '429,000원', False, '23/10/18'],\n",
       " ['EU 41', '409,000원', False, '23/10/18'],\n",
       " ['EU 41', '408,000원', False, '23/10/18'],\n",
       " ['EU 42', '447,000원', False, '23/10/17'],\n",
       " ['EU 43', '465,000원', False, '23/10/17'],\n",
       " ['EU 43', '479,000원', False, '23/10/17'],\n",
       " ['EU 43', '459,000원', False, '23/10/17'],\n",
       " ['EU 41', '397,000원', False, '23/10/17'],\n",
       " ['EU 43', '449,000원', False, '23/10/15'],\n",
       " ['EU 40', '382,000원', False, '23/10/14'],\n",
       " ['EU 43', '470,000원', False, '23/10/13'],\n",
       " ['EU 42', '390,000원', False, '23/10/13'],\n",
       " ['EU 42', '482,000원', False, '23/10/12']]"
      ]
     },
     "execution_count": 19,
     "metadata": {},
     "output_type": "execute_result"
    }
   ],
   "source": [
    "x = await page.query_selector_all(\".body_list\")\n",
    "volumes = [BeautifulSoup(await i.inner_html()) for i in x]\n",
    "\n",
    "\n",
    "def _extract_volume_data_from(body_list: List) -> List[List]:\n",
    "    \"\"\"\n",
    "    크롤링 결과 리스트에서 거래량 추출\n",
    "\n",
    "    Args:\n",
    "        body_list (List): 크롤링 결과 리스트\n",
    "\n",
    "    Returns:\n",
    "        List: 크롤링 결과 리스트로 반환\n",
    "    \"\"\"\n",
    "\n",
    "    def preprocess_items(tags) -> List:\n",
    "        x = []\n",
    "        for tag in tags.find_all(class_=\"list_txt\"):\n",
    "            x.append(tag.text.strip())\n",
    "        if \"빠\"in x[1] :\n",
    "            return [x[0], x[1], True, x[2].replace('빠른배송','').strip()]\n",
    "        else :\n",
    "            return [x[0], x[1], False, x[2].replace('빠른배송','').strip()]\n",
    "\n",
    "    return [preprocess_items(tags) for tags in body_list]\n",
    "\n",
    "body_list = _extract_volume_data_from(volumes)\n",
    "body_list"
   ]
  }
 ],
 "metadata": {
  "kernelspec": {
   "display_name": "Python 3",
   "language": "python",
   "name": "python3"
  },
  "language_info": {
   "codemirror_mode": {
    "name": "ipython",
    "version": 3
   },
   "file_extension": ".py",
   "mimetype": "text/x-python",
   "name": "python",
   "nbconvert_exporter": "python",
   "pygments_lexer": "ipython3",
   "version": "3.11.5"
  },
  "orig_nbformat": 4
 },
 "nbformat": 4,
 "nbformat_minor": 2
}
