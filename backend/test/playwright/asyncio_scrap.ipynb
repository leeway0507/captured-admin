{
 "cells": [
  {
   "attachments": {},
   "cell_type": "markdown",
   "metadata": {},
   "source": [
    "### ADD Brand List of Shopinng Mall"
   ]
  },
  {
   "cell_type": "code",
   "execution_count": 1,
   "metadata": {},
   "outputs": [],
   "source": [
    "import sys\n",
    "\n",
    "sys.path.append(\"../../\")"
   ]
  },
  {
   "cell_type": "code",
   "execution_count": 49,
   "metadata": {},
   "outputs": [],
   "source": [
    "# in Jupyter\n",
    "import re\n",
    "import sys\n",
    "import os\n",
    "from random import randint\n",
    "from typing import List, Dict, Any, Callable\n",
    "\n",
    "import asyncio \n",
    "import pandas as pd\n",
    "from bs4 import BeautifulSoup\n",
    "from playwright.async_api import async_playwright, Page, TimeoutError as PlaywrightTimeoutError \n",
    "\n",
    "\n",
    "\n",
    "pw = await async_playwright().start()\n",
    "browser = await pw.firefox.launch(headless=False)\n",
    "page = await browser.new_page()\n",
    "\n",
    "\n",
    "page.set_default_timeout(15000)\n",
    "\n",
    "async def _load_page( page: Page, url):\n",
    "    \"\"\"페이지 로드\"\"\"\n",
    "    await asyncio.sleep(1)\n",
    "    await page.goto(url)\n",
    "    await page.wait_for_load_state(state=\"networkidle\")\n",
    "    await page.wait_for_timeout(1000)\n",
    "    return page\n"
   ]
  },
  {
   "cell_type": "code",
   "execution_count": 50,
   "metadata": {},
   "outputs": [
    {
     "data": {
      "text/plain": [
       "<Page url='https://kream.co.kr/login'>"
      ]
     },
     "execution_count": 50,
     "metadata": {},
     "output_type": "execute_result"
    }
   ],
   "source": [
    "await _load_page(page, \"https://kream.co.kr/login\")"
   ]
  },
  {
   "cell_type": "code",
   "execution_count": 33,
   "metadata": {},
   "outputs": [],
   "source": [
    "import os \n",
    "def get_last_update_date(path: str) -> list:\n",
    "    \"\"\"가장 최근에 생성된 날짜를 이름을 가져온다.\"\"\"\n",
    "    file_names = os.listdir(path)\n",
    "    file_names.sort()\n",
    "    d = file_names[-1]\n",
    "    return d.rsplit(\"-\", 1)[0]"
   ]
  },
  {
   "cell_type": "code",
   "execution_count": 59,
   "metadata": {},
   "outputs": [
    {
     "name": "stdout",
     "output_type": "stream",
     "text": [
      "Timeout 100ms exceeded.\n",
      "=========================== logs ===========================\n",
      "waiting for locator(\".e\") to be visible\n",
      "============================================================\n"
     ]
    }
   ],
   "source": [
    "try :\n",
    "    await page.wait_for_selector('.e', timeout=100)\n",
    "except PlaywrightTimeoutError as e:\n",
    "    print(e)"
   ]
  },
  {
   "cell_type": "code",
   "execution_count": 64,
   "metadata": {},
   "outputs": [],
   "source": [
    "async def save_cookies(page):\n",
    "    # Get cookies from the current page\n",
    "    cookies = await page.context.cookies()\n",
    "\n",
    "    # Save cookies to a file or database\n",
    "    # In this example, cookies are saved to a file named 'cookies.json'\n",
    "    with open('cookies.json', 'w') as file:\n",
    "        file.write(str(cookies))\n",
    "\n",
    "await save_cookies(page)"
   ]
  },
  {
   "cell_type": "code",
   "execution_count": null,
   "metadata": {},
   "outputs": [],
   "source": [
    "for i in enumerate"
   ]
  }
 ],
 "metadata": {
  "kernelspec": {
   "display_name": "Python 3",
   "language": "python",
   "name": "python3"
  },
  "language_info": {
   "codemirror_mode": {
    "name": "ipython",
    "version": 3
   },
   "file_extension": ".py",
   "mimetype": "text/x-python",
   "name": "python",
   "nbconvert_exporter": "python",
   "pygments_lexer": "ipython3",
   "version": "3.9.1"
  },
  "orig_nbformat": 4
 },
 "nbformat": 4,
 "nbformat_minor": 2
}
