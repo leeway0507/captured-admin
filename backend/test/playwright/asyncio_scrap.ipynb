{
 "cells": [
  {
   "attachments": {},
   "cell_type": "markdown",
   "metadata": {},
   "source": [
    "### ADD Brand List of Shopinng Mall"
   ]
  },
  {
   "cell_type": "code",
   "execution_count": 1,
   "metadata": {},
   "outputs": [],
   "source": [
    "import sys\n",
    "\n",
    "sys.path.append(\"../../\")"
   ]
  },
  {
   "cell_type": "code",
   "execution_count": 2,
   "metadata": {},
   "outputs": [],
   "source": [
    "# in Jupyter\n",
    "import re\n",
    "import sys\n",
    "import os\n",
    "from random import randint\n",
    "from typing import List, Dict, Any, Callable\n",
    "\n",
    "import asyncio \n",
    "import pandas as pd\n",
    "from bs4 import BeautifulSoup\n",
    "from playwright.async_api import async_playwright, Page, TimeoutError as PlaywrightTimeoutError \n",
    "\n",
    "\n",
    "\n",
    "pw = await async_playwright().start()\n",
    "browser = await pw.firefox.launch(headless=False)\n",
    "page = await browser.new_page()\n",
    "\n",
    "\n",
    "page.set_default_timeout(15000)\n",
    "\n",
    "async def _load_page( page: Page, url):\n",
    "    \"\"\"페이지 로드\"\"\"\n",
    "    await asyncio.sleep(1)\n",
    "    await page.goto(url)\n",
    "    await page.wait_for_load_state(state=\"networkidle\")\n",
    "    await page.wait_for_timeout(1000)\n",
    "    return page\n"
   ]
  },
  {
   "cell_type": "code",
   "execution_count": 3,
   "metadata": {},
   "outputs": [
    {
     "data": {
      "text/plain": [
       "<Page url='https://kream.co.kr/login'>"
      ]
     },
     "execution_count": 3,
     "metadata": {},
     "output_type": "execute_result"
    }
   ],
   "source": [
    "await _load_page(page, \"https://kream.co.kr/login\")"
   ]
  },
  {
   "cell_type": "code",
   "execution_count": 4,
   "metadata": {},
   "outputs": [],
   "source": [
    "async def save_cookies(page):\n",
    "    # Get cookies from the current page\n",
    "    cookies = await page.context.cookies()\n",
    "\n",
    "    # Save cookies to a file or database\n",
    "    # In this example, cookies are saved to a file named 'cookies.json'\n",
    "    with open('../../router/dev/kream/cookie/cookies.json', 'w') as file:\n",
    "        file.write(str(cookies))\n"
   ]
  },
  {
   "cell_type": "code",
   "execution_count": 5,
   "metadata": {},
   "outputs": [
    {
     "data": {
      "text/plain": [
       "<Response url='https://kream.co.kr/' request=<Request url='https://kream.co.kr/' method='GET'>>"
      ]
     },
     "execution_count": 5,
     "metadata": {},
     "output_type": "execute_result"
    }
   ],
   "source": [
    "async def load_cookies(page):\n",
    "    # Load cookies from a file or database\n",
    "    # In this example, cookies are loaded from a file named 'cookies.json'\n",
    "    \n",
    "    with open('../../router/dev/kream/cookie/cookies.json', 'r') as file:\n",
    "        cookies = eval(file.read())\n",
    "\n",
    "    # Set cookies in the current page\n",
    "    await page.context.add_cookies(cookies)\n",
    "\n",
    "await load_cookies(page)\n",
    "await page.goto(\"https://kream.co.kr\")"
   ]
  },
  {
   "cell_type": "code",
   "execution_count": 74,
   "metadata": {},
   "outputs": [
    {
     "data": {
      "text/plain": [
       "7285"
      ]
     },
     "execution_count": 74,
     "metadata": {},
     "output_type": "execute_result"
    }
   ],
   "source": [
    "brand = await page.query_selector(\".wish_count_num\")\n",
    "brand = await brand.inner_text()\n",
    "int(brand.replace(\",\",\"\"))"
   ]
  }
 ],
 "metadata": {
  "kernelspec": {
   "display_name": "Python 3",
   "language": "python",
   "name": "python3"
  },
  "language_info": {
   "codemirror_mode": {
    "name": "ipython",
    "version": 3
   },
   "file_extension": ".py",
   "mimetype": "text/x-python",
   "name": "python",
   "nbconvert_exporter": "python",
   "pygments_lexer": "ipython3",
   "version": "3.11.5"
  },
  "orig_nbformat": 4
 },
 "nbformat": 4,
 "nbformat_minor": 2
}
