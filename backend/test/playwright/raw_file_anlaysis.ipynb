{
 "cells": [
  {
   "cell_type": "code",
   "execution_count": 40,
   "metadata": {},
   "outputs": [],
   "source": [
    "from datetime import datetime\n",
    "from bs4 import BeautifulSoup\n",
    "\n",
    "def test(html) :\n",
    "    soup = BeautifulSoup(html, 'html.parser')\n",
    "\n",
    "    kream_product_id =soup.find(\"a\", class_=\"item_inner\")[\"href\"].split('/')[-1] # type: ignore\n",
    "    kream_product_img_url =soup.find(\"img\", class_=\"image full_width\")[\"src\"] # type: ignore\n",
    "    kream_product_name =soup.find(\"p\", class_=\"name\").get_text(strip=True).lower() # type: ignore\n",
    "    brand_name =soup.find(\"p\", class_=\"product_info_brand\").get_text(strip=True).lower() # type: ignore\n",
    "    \n",
    "    updated_at = datetime.now()\n",
    "\n",
    "    trading_volume = soup.find(\"div\", class_=\"status_value\")\n",
    "    if trading_volume is None :\n",
    "        trading_volume = 0\n",
    "    else :\n",
    "        trading_volume =_convert_str_to_int(trading_volume.get_text(strip=True))\n",
    "\n",
    "    wish = soup.find(\"span\", class_=\"wish_figure\")\n",
    "    if wish is None :\n",
    "        wish = 0\n",
    "    else :\n",
    "        wish =_convert_str_to_int(wish.get_text(strip=True))\n",
    "    \n",
    "    review = soup.find(\"span\", class_=\"review_figure\")\n",
    "    if review is None :\n",
    "        review = 0\n",
    "    else :\n",
    "        review =_convert_str_to_int(review.get_text(strip=True))\n",
    "\n",
    "    return {\n",
    "    \"kream_product_id\":kream_product_id,\n",
    "    \"kream_product_img_url\":kream_product_img_url,\n",
    "    \"kream_product_name\":kream_product_name,\n",
    "    \"brand_name\":brand_name,\n",
    "    \"trading_volume\":trading_volume,\n",
    "    \"wish\":wish,\n",
    "    \"review\":review,\n",
    "    \"updated_at\":updated_at,\n",
    "    }\n",
    "\n",
    "\n",
    "\n",
    "def _convert_str_to_int(value: str) -> int:\n",
    "    \"\"\"문자열을 숫자로 변환\"\"\"\n",
    "\n",
    "    if \"거래\" in value :\n",
    "        value = value.replace(\"거래\", \"\").replace(\" \", \"\")\n",
    "\n",
    "    if \"만\" in value :\n",
    "        value = value.replace(\"만\", \"\")\n",
    "        return int(float(value) * 10000) # type: ignore\n",
    "    \n",
    "    value = value.replace(\",\", \"\")\n",
    "    return int(value)\n"
   ]
  },
  {
   "cell_type": "code",
   "execution_count": 31,
   "metadata": {},
   "outputs": [],
   "source": [
    "import pandas as pd\n",
    "\n",
    "brand_name = 'adidas'\n",
    "df = pd.read_parquet(f'scraping_raw/{brand_name}_raw.parquet')"
   ]
  },
  {
   "cell_type": "code",
   "execution_count": 32,
   "metadata": {},
   "outputs": [],
   "source": [
    "product_card_list = df[0].tolist()"
   ]
  },
  {
   "cell_type": "code",
   "execution_count": 41,
   "metadata": {},
   "outputs": [],
   "source": [
    "for i in range(len(product_card_list)) :\n",
    "    try :\n",
    "        test(product_card_list[i])\n",
    "    except :\n",
    "        print(i)\n",
    "        break"
   ]
  },
  {
   "cell_type": "code",
   "execution_count": 39,
   "metadata": {},
   "outputs": [
    {
     "data": {
      "text/plain": [
       "'<a data-v-19fda891=\"\" href=\"/products/188885\" class=\"item_inner\"><div data-v-aff2362e=\"\" class=\"product\" style=\"background-color: rgb(241, 241, 234);\"><div data-v-416dde45=\"\" data-v-aff2362e=\"\" class=\"product_inner_tag display_tag_item\"><!----><span data-v-416dde45=\"\">  </span></div><picture data-v-44ba780a=\"\" data-v-aff2362e=\"\" class=\"picture product_img\"><source data-v-44ba780a=\"\" type=\"image/webp\" srcset=\"https://kream-phinf.pstatic.net/MjAyMzEwMThfMjA3/MDAxNjk3NjE3MTM3Njkw.KhcoB-cx2buUqVEwQFB2-kU1pS6X4Ry-I7ypv0gHmiYg.5F9VyilLE-Nfm-gIdFb6YgfipuPeg9yCoAUXfXm-KmYg.PNG/a_ec622f18cf4c4446a8d6aee6a6541cb8.png?type=m_webp\"><source data-v-44ba780a=\"\" srcset=\"https://kream-phinf.pstatic.net/MjAyMzEwMThfMjA3/MDAxNjk3NjE3MTM3Njkw.KhcoB-cx2buUqVEwQFB2-kU1pS6X4Ry-I7ypv0gHmiYg.5F9VyilLE-Nfm-gIdFb6YgfipuPeg9yCoAUXfXm-KmYg.PNG/a_ec622f18cf4c4446a8d6aee6a6541cb8.png?type=m\"><img data-v-44ba780a=\"\" alt=\"아디다스 부세니츠 벌크 2 코어 블랙 카본\" src=\"https://kream-phinf.pstatic.net/MjAyMzEwMThfMjA3/MDAxNjk3NjE3MTM3Njkw.KhcoB-cx2buUqVEwQFB2-kU1pS6X4Ry-I7ypv0gHmiYg.5F9VyilLE-Nfm-gIdFb6YgfipuPeg9yCoAUXfXm-KmYg.PNG/a_ec622f18cf4c4446a8d6aee6a6541cb8.png?type=m\" loading=\"lazy\" class=\"image full_width\"></picture><!----><!----><!----></div><div data-v-beb706f6=\"\" class=\"product_info_area\"><div data-v-beb706f6=\"\" class=\"title\"><p data-v-878934fe=\"\" data-v-beb706f6=\"\" class=\"product_info_brand brand\"> Adidas <!----></p><div data-v-02c37783=\"\" data-v-beb706f6=\"\" class=\"product_info_product_name\"><p data-v-02c37783=\"\" class=\"name\">Adidas Busenitz Vulc 2 Core Black Carbon</p><p data-v-02c37783=\"\" class=\"translated_name\">아디다스 부세니츠 벌크 2 코어 블랙 카본</p></div></div><div data-v-6481d7ba=\"\" data-v-beb706f6=\"\" class=\"tags\"></div></div><div data-v-ef71e3ac=\"\" data-v-7dab533a=\"\" class=\"price price_area\"><p data-v-ef71e3ac=\"\" class=\"amount\"><!----> 170,000원 </p><p data-v-ef71e3ac=\"\" class=\"desc\">즉시 구매가</p></div></a><div data-v-23140b9d=\"\" class=\"action_wish_review\" data-v-19fda891=\"\"><!----><span data-v-23140b9d=\"\" class=\"review_figure\"><span data-v-23140b9d=\"\" class=\"review_link\" aria-label=\"아디다스 부세니츠 벌크 2 코어 블랙 카본 리뷰\" role=\"button\"><svg data-v-23140b9d=\"\" width=\"15\" height=\"15\" xmlns=\"http://www.w3.org/2000/svg\" class=\"icon sprite-icons\"><use data-v-23140b9d=\"\" href=\"/_nuxt/b685a18dbba161b5c3cf613cb39a8946.svg#i-ico-review-grey\" xlink:href=\"/_nuxt/b685a18dbba161b5c3cf613cb39a8946.svg#i-ico-review-grey\"></use></svg></span><span data-v-23140b9d=\"\" class=\"text\">0</span></span></div>'"
      ]
     },
     "execution_count": 39,
     "metadata": {},
     "output_type": "execute_result"
    }
   ],
   "source": [
    "product_card_list[494]"
   ]
  },
  {
   "cell_type": "code",
   "execution_count": 38,
   "metadata": {},
   "outputs": [
    {
     "name": "stdout",
     "output_type": "stream",
     "text": [
      "None\n"
     ]
    }
   ],
   "source": [
    "html = product_card_list[494]\n",
    "soup = BeautifulSoup(html, 'html.parser')\n",
    "trading_volume = soup.find(\"div\", class_=\"wish_figure\")\n",
    "\n",
    "print(trading_volume)"
   ]
  }
 ],
 "metadata": {
  "kernelspec": {
   "display_name": "Python 3",
   "language": "python",
   "name": "python3"
  },
  "language_info": {
   "codemirror_mode": {
    "name": "ipython",
    "version": 3
   },
   "file_extension": ".py",
   "mimetype": "text/x-python",
   "name": "python",
   "nbconvert_exporter": "python",
   "pygments_lexer": "ipython3",
   "version": "3.9.1"
  }
 },
 "nbformat": 4,
 "nbformat_minor": 2
}
