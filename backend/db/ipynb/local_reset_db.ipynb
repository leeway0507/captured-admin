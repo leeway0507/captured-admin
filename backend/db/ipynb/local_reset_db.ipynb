{
  "cells": [
    {
      "cell_type": "code",
      "execution_count": null,
      "metadata": {},
      "outputs": [],
      "source": [
        "import os \n",
        "path = 'logs/test/logs.db'\n",
        "if not os.path.exists(path):\n",
        "    os.mkdir(path)"
      ]
    },
    {
      "cell_type": "code",
      "execution_count": 1,
      "metadata": {},
      "outputs": [
        {
          "name": "stdout",
          "output_type": "stream",
          "text": [
            "Session Connected!\n"
          ]
        }
      ],
      "source": [
        "import sys\n",
        "sys.path.append('../')\n",
        "\n",
        "from sqlalchemy.ext.declarative import declarative_base\n",
        "from sqlalchemy.dialects.mysql import CHAR, INTEGER\n",
        "from sqlalchemy.orm import sessionmaker\n",
        "from sqlalchemy import create_engine, Column,inspect\n",
        "import tables\n",
        "# env\n",
        "DB_USER_NAME=\"root\"\n",
        "DB_PASSWORD=\"\"\n",
        "DB_HOST=\"localhost\"\n",
        "DB_NAME=\"captured_dev\"\n",
        "\n",
        "###############\n",
        "# DB Session using Sqlalchemy.orm\n",
        "SQLALCHEMY_DATABASE_URL = f\"mysql+pymysql://{DB_USER_NAME}:{DB_PASSWORD}@{DB_HOST}:3306/{DB_NAME}\"\n",
        "engine = create_engine(SQLALCHEMY_DATABASE_URL)\n",
        "Session = sessionmaker(bind=engine)\n",
        "session = Session()\n",
        "print(\"Session Connected!\")"
      ]
    },
    {
      "attachments": {},
      "cell_type": "markdown",
      "metadata": {},
      "source": [
        "# Run All  방지용"
      ]
    },
    {
      "attachments": {},
      "cell_type": "markdown",
      "metadata": {},
      "source": [
        "# Shop"
      ]
    },
    {
      "attachments": {},
      "cell_type": "markdown",
      "metadata": {},
      "source": [
        "### create"
      ]
    },
    {
      "cell_type": "code",
      "execution_count": 3,
      "metadata": {},
      "outputs": [],
      "source": [
        "# tables.ProductInfoTable.__table__.create(engine)\n",
        "# tables.UserTable.__table__.create(engine)\n",
        "# tables.SizeTable.__table__.create(engine)\n",
        "# tables.UserAddressTable.__table__.create(engine)\n",
        "tables.OrderHistoryTable.__table__.create(engine)\n",
        "tables.OrderRowTable.__table__.create(engine)"
      ]
    },
    {
      "attachments": {},
      "cell_type": "markdown",
      "metadata": {},
      "source": [
        "### drop"
      ]
    },
    {
      "cell_type": "code",
      "execution_count": 2,
      "metadata": {},
      "outputs": [],
      "source": [
        "tables.OrderRowTable.__table__.drop(engine)\n",
        "tables.OrderHistoryTable.__table__.drop(engine)\n",
        "# tables.SizeTable.__table__.drop(engine)\n",
        "# tables.ProductInfoTable.__table__.drop(engine)\n",
        "# tables.UserAddressTable.__table__.drop(engine)\n",
        "# tables.UserTable.__table__.drop(engine)"
      ]
    }
  ],
  "metadata": {
    "kernelspec": {
      "display_name": "Python 3",
      "language": "python",
      "name": "python3"
    },
    "language_info": {
      "codemirror_mode": {
        "name": "ipython",
        "version": 3
      },
      "file_extension": ".py",
      "mimetype": "text/x-python",
      "name": "python",
      "nbconvert_exporter": "python",
      "pygments_lexer": "ipython3",
      "version": "3.9.1"
    },
    "orig_nbformat": 4
  },
  "nbformat": 4,
  "nbformat_minor": 2
}
