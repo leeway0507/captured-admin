{
 "cells": [
  {
   "cell_type": "code",
   "execution_count": 2,
   "metadata": {},
   "outputs": [],
   "source": [
    "import sys\n",
    "sys.path.append('../')\n",
    "sys.path.append('../../')\n",
    "from time import time\n",
    "from sqlalchemy import create_engine\n",
    "from sqlalchemy.orm import sessionmaker\n",
    "from sqlalchemy.orm.session import Session\n",
    "from tables import ProductInfoTable, SizeTable\n",
    "from sqlalchemy import func,case\n",
    "import pandas as pd\n",
    "\n",
    "def conn_engine(username: str, password: str, host: str, db_name: str, **_kwargs):\n",
    "    db_url = f\"mysql+pymysql://{username}:{password}@{host}:3306/{db_name}\"\n",
    "    return create_engine(db_url)\n",
    "\n",
    "def connect_db(username: str, password: str, host: str, db_name: str, **_kwargs) -> Session:\n",
    "\n",
    "    engine = conn_engine(username, password, host, db_name)\n",
    "    session_local = sessionmaker(bind=engine)\n",
    "    return session_local()\n",
    "\n",
    "secret = {\n",
    "        \"username\": \"admin\",\n",
    "        \"password\": \"1q2w3e4r!\",\n",
    "        \"host\": \"dodomoards.ccoalf3s8d7c.ap-northeast-2.rds.amazonaws.com\",\n",
    "        \"db_name\": \"captured\",\n",
    "    }\n",
    "\n",
    "db_session = connect_db(**secret) \n",
    "# def execute_query(query):\n",
    "#     \"\"\"esecute_query\"\"\"\n",
    "#     db_session = connect_db(**secret)\n",
    "#     result_list = db_session.execute(query)\n",
    "#     if db_session.is_active:\n",
    "#         db_session.close()\n",
    "#     return list(result_list)\n",
    "\n",
    "# s_1 = time()\n",
    "# x = execute_query(\"SELECT * FROM product_info \")\n",
    "# s_2 = time()\n",
    "\n",
    "# print(\"query executing\", f\"{s_2 - s_1:.5f} sec\")\n"
   ]
  },
  {
   "cell_type": "markdown",
   "metadata": {},
   "source": [
    "### update"
   ]
  },
  {
   "cell_type": "code",
   "execution_count": 7,
   "metadata": {},
   "outputs": [],
   "source": [
    "all_item = db_session.query(ProductInfoTable).all()\n"
   ]
  },
  {
   "cell_type": "code",
   "execution_count": 9,
   "metadata": {},
   "outputs": [],
   "source": [
    "df = pd.DataFrame(map(lambda x: x.to_dict(),all_item))"
   ]
  },
  {
   "cell_type": "code",
   "execution_count": 18,
   "metadata": {},
   "outputs": [],
   "source": [
    "from random import choices\n",
    "x = ['의류','신발','기타']\n",
    "\n",
    "category = choices(x,k=34)\n",
    "\n",
    "def func(v) : \n",
    "    if v == '기타' :\n",
    "        return '가방'\n",
    "    if v == '의류' :\n",
    "        return '반팔'\n",
    "    else :\n",
    "        return '스니커즈'"
   ]
  },
  {
   "cell_type": "code",
   "execution_count": 19,
   "metadata": {},
   "outputs": [],
   "source": [
    "df['category'] = category\n",
    "df['category_spec'] = df['category'].map(lambda x : func(x) )"
   ]
  },
  {
   "cell_type": "code",
   "execution_count": 21,
   "metadata": {},
   "outputs": [],
   "source": [
    "db_session.bulk_update_mappings(ProductInfoTable, df.to_dict(orient='records'))\n",
    "db_session.commit()"
   ]
  },
  {
   "cell_type": "code",
   "execution_count": null,
   "metadata": {},
   "outputs": [],
   "source": [
    "# session.rollback()"
   ]
  },
  {
   "cell_type": "code",
   "execution_count": 6,
   "metadata": {},
   "outputs": [],
   "source": [
    "import json\n",
    "with open(\"../../json/init_meta.json\", \"r\") as f:\n",
    "    meta = json.load(f)\n",
    "    "
   ]
  },
  {
   "cell_type": "code",
   "execution_count": 19,
   "metadata": {},
   "outputs": [
    {
     "data": {
      "text/plain": [
       "False"
      ]
     },
     "execution_count": 19,
     "metadata": {},
     "output_type": "execute_result"
    }
   ],
   "source": [
    "from model.product_model import RequestFilterSchema\n",
    "\n",
    "\n",
    "any(RequestFilterSchema().model_dump().values())\n"
   ]
  }
 ],
 "metadata": {
  "kernelspec": {
   "display_name": "Python 3",
   "language": "python",
   "name": "python3"
  },
  "language_info": {
   "codemirror_mode": {
    "name": "ipython",
    "version": 3
   },
   "file_extension": ".py",
   "mimetype": "text/x-python",
   "name": "python",
   "nbconvert_exporter": "python",
   "pygments_lexer": "ipython3",
   "version": "3.9.1"
  },
  "orig_nbformat": 4
 },
 "nbformat": 4,
 "nbformat_minor": 2
}
