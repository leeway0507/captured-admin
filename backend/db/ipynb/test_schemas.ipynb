{
 "cells": [
  {
   "cell_type": "code",
   "execution_count": 3,
   "metadata": {},
   "outputs": [
    {
     "name": "stdout",
     "output_type": "stream",
     "text": [
      "Session Connected!\n"
     ]
    }
   ],
   "source": [
    "import sys\n",
    "sys.path.append('../')\n",
    "\n",
    "import pandas as pd\n",
    "\n",
    "from sqlalchemy.ext.declarative import declarative_base\n",
    "from sqlalchemy.dialects.mysql import CHAR, INTEGER\n",
    "from sqlalchemy.orm import sessionmaker\n",
    "from sqlalchemy import create_engine, Column,inspect,select\n",
    "from tables_kream import *\n",
    "# from ..tables_shop import *\n",
    "# env\n",
    "DB_USER_NAME=\"root\"\n",
    "DB_PASSWORD=\"\"\n",
    "DB_HOST=\"localhost\"\n",
    "DB_NAME=\"captured_admin\"\n",
    "# DB_NAME=\"captured_dev\"\n",
    "\n",
    "###############\n",
    "# DB Session using Sqlalchemy.orm\n",
    "SQLALCHEMY_DATABASE_URL = f\"mysql+pymysql://{DB_USER_NAME}:{DB_PASSWORD}@{DB_HOST}:3306/{DB_NAME}\"\n",
    "engine = create_engine(SQLALCHEMY_DATABASE_URL)\n",
    "Session = sessionmaker(bind=engine)\n",
    "session = Session()\n",
    "print(\"Session Connected!\")"
   ]
  },
  {
   "cell_type": "code",
   "execution_count": 9,
   "metadata": {},
   "outputs": [
    {
     "data": {
      "text/plain": [
       "{'100',\n",
       " '215',\n",
       " '220',\n",
       " '225',\n",
       " '230',\n",
       " '235',\n",
       " '235(US4.5)',\n",
       " '235(US5)',\n",
       " '240',\n",
       " '240(US5.5)',\n",
       " '240(US6)',\n",
       " '245',\n",
       " '245(US5.5)',\n",
       " '245(US6)',\n",
       " '250',\n",
       " '252.5',\n",
       " '255',\n",
       " '260',\n",
       " '265',\n",
       " '270',\n",
       " '275',\n",
       " '28',\n",
       " '280',\n",
       " '282.5',\n",
       " '285',\n",
       " '29',\n",
       " '290',\n",
       " '295',\n",
       " '30',\n",
       " '300',\n",
       " '305',\n",
       " '31',\n",
       " '310',\n",
       " '315',\n",
       " '32',\n",
       " '320',\n",
       " '325',\n",
       " '33',\n",
       " '335',\n",
       " '34',\n",
       " '345',\n",
       " '36',\n",
       " '44',\n",
       " '46',\n",
       " '48',\n",
       " '50',\n",
       " '52',\n",
       " '54',\n",
       " '70',\n",
       " '80',\n",
       " '90',\n",
       " 'EU35',\n",
       " 'EU36',\n",
       " 'EU37',\n",
       " 'EU38',\n",
       " 'EU39',\n",
       " 'EU40',\n",
       " 'EU41',\n",
       " 'EU42',\n",
       " 'EU43',\n",
       " 'EU44',\n",
       " 'EU45',\n",
       " 'L',\n",
       " 'L-XL',\n",
       " 'M',\n",
       " 'M-L',\n",
       " 'ONESIZE',\n",
       " 'OSFL',\n",
       " 'OSFM',\n",
       " 'OSFW',\n",
       " 'S',\n",
       " 'S-M',\n",
       " 'US10',\n",
       " 'US11',\n",
       " 'US12',\n",
       " 'US13',\n",
       " 'US6',\n",
       " 'US7',\n",
       " 'US8',\n",
       " 'US9',\n",
       " 'USL(ASIAXL)',\n",
       " 'USM(ASIAL)',\n",
       " 'USS(ASIAM)',\n",
       " 'USXL(ASIAXXL)',\n",
       " 'USXS(ASIAS)',\n",
       " 'W1',\n",
       " 'W2',\n",
       " 'XL',\n",
       " 'XL-XXL',\n",
       " 'XS',\n",
       " 'XXL',\n",
       " 'XXS',\n",
       " 'XXS-S',\n",
       " 'XXXL',\n",
       " 'XXXXL',\n",
       " 'XXXXXL',\n",
       " 'XXXXXXXL'}"
      ]
     },
     "execution_count": 9,
     "metadata": {},
     "output_type": "execute_result"
    }
   ],
   "source": [
    "stmt = select(KreamBuyAndSellTable.kream_product_size)\n",
    "result = session.execute(stmt).all()\n",
    "\n",
    "result = [x[0] for x in result]\n",
    "\n",
    "set(result)"
   ]
  },
  {
   "cell_type": "code",
   "execution_count": 7,
   "metadata": {},
   "outputs": [],
   "source": [
    "stmt = select(KreamTradingVolumeTable.kream_product_size)\n",
    "result = session.execute(stmt).all()\n",
    "\n",
    "result = [x[0] for x in result]\n"
   ]
  },
  {
   "cell_type": "code",
   "execution_count": 8,
   "metadata": {},
   "outputs": [
    {
     "data": {
      "text/plain": [
       "{'100',\n",
       " '215',\n",
       " '220',\n",
       " '225',\n",
       " '230',\n",
       " '235',\n",
       " '235(US 5)',\n",
       " '240',\n",
       " '240(US 5.5)',\n",
       " '240(US 6)',\n",
       " '245',\n",
       " '250',\n",
       " '255',\n",
       " '260',\n",
       " '265',\n",
       " '270',\n",
       " '275',\n",
       " '28',\n",
       " '280',\n",
       " '285',\n",
       " '29',\n",
       " '290',\n",
       " '295',\n",
       " '30',\n",
       " '300',\n",
       " '305',\n",
       " '31',\n",
       " '310',\n",
       " '315',\n",
       " '32',\n",
       " '320',\n",
       " '325',\n",
       " '33',\n",
       " '34',\n",
       " '36',\n",
       " '44',\n",
       " '46',\n",
       " '48',\n",
       " '50',\n",
       " '52',\n",
       " '54',\n",
       " '70',\n",
       " '80',\n",
       " '90',\n",
       " 'EU 40',\n",
       " 'EU 41',\n",
       " 'EU 42',\n",
       " 'EU 43',\n",
       " 'EU 44',\n",
       " 'L',\n",
       " 'L-XL',\n",
       " 'M',\n",
       " 'M-L',\n",
       " 'ONE SIZE',\n",
       " 'OSFL',\n",
       " 'OSFM',\n",
       " 'S',\n",
       " 'S-M',\n",
       " 'US 10',\n",
       " 'US 11',\n",
       " 'US 12',\n",
       " 'US 7',\n",
       " 'US 8',\n",
       " 'US 9',\n",
       " 'US L(ASIA XL)',\n",
       " 'US M(ASIA L)',\n",
       " 'US S(ASIA M)',\n",
       " 'US XS(ASIA S)',\n",
       " 'W1',\n",
       " 'W2',\n",
       " 'XL',\n",
       " 'XL-XXL',\n",
       " 'XS',\n",
       " 'XXL',\n",
       " 'XXS',\n",
       " 'XXS-S',\n",
       " 'XXXL',\n",
       " 'XXXXL'}"
      ]
     },
     "execution_count": 8,
     "metadata": {},
     "output_type": "execute_result"
    }
   ],
   "source": [
    "set(result)"
   ]
  },
  {
   "cell_type": "markdown",
   "metadata": {},
   "source": [
    "### update"
   ]
  },
  {
   "cell_type": "code",
   "execution_count": 7,
   "metadata": {},
   "outputs": [],
   "source": [
    "all_item = db_session.query(ProductInfoTable).all()\n"
   ]
  },
  {
   "cell_type": "code",
   "execution_count": 9,
   "metadata": {},
   "outputs": [],
   "source": [
    "df = pd.DataFrame(map(lambda x: x.to_dict(),all_item))"
   ]
  },
  {
   "cell_type": "code",
   "execution_count": 18,
   "metadata": {},
   "outputs": [],
   "source": [
    "from random import choices\n",
    "x = ['의류','신발','기타']\n",
    "\n",
    "category = choices(x,k=34)\n",
    "\n",
    "def func(v) : \n",
    "    if v == '기타' :\n",
    "        return '가방'\n",
    "    if v == '의류' :\n",
    "        return '반팔'\n",
    "    else :\n",
    "        return '스니커즈'"
   ]
  },
  {
   "cell_type": "code",
   "execution_count": 19,
   "metadata": {},
   "outputs": [],
   "source": [
    "df['category'] = category\n",
    "df['category_spec'] = df['category'].map(lambda x : func(x) )"
   ]
  },
  {
   "cell_type": "code",
   "execution_count": 21,
   "metadata": {},
   "outputs": [],
   "source": [
    "db_session.bulk_update_mappings(ProductInfoTable, df.to_dict(orient='records'))\n",
    "db_session.commit()"
   ]
  },
  {
   "cell_type": "code",
   "execution_count": null,
   "metadata": {},
   "outputs": [],
   "source": [
    "# session.rollback()"
   ]
  },
  {
   "cell_type": "code",
   "execution_count": 6,
   "metadata": {},
   "outputs": [],
   "source": [
    "import json\n",
    "with open(\"../../json/init_meta.json\", \"r\") as f:\n",
    "    meta = json.load(f)\n",
    "    "
   ]
  },
  {
   "cell_type": "code",
   "execution_count": 19,
   "metadata": {},
   "outputs": [
    {
     "data": {
      "text/plain": [
       "False"
      ]
     },
     "execution_count": 19,
     "metadata": {},
     "output_type": "execute_result"
    }
   ],
   "source": [
    "from model.product_model import RequestFilterSchema\n",
    "\n",
    "\n",
    "any(RequestFilterSchema().model_dump().values())\n"
   ]
  }
 ],
 "metadata": {
  "kernelspec": {
   "display_name": "Python 3",
   "language": "python",
   "name": "python3"
  },
  "language_info": {
   "codemirror_mode": {
    "name": "ipython",
    "version": 3
   },
   "file_extension": ".py",
   "mimetype": "text/x-python",
   "name": "python",
   "nbconvert_exporter": "python",
   "pygments_lexer": "ipython3",
   "version": "3.11.6"
  },
  "orig_nbformat": 4
 },
 "nbformat": 4,
 "nbformat_minor": 2
}
