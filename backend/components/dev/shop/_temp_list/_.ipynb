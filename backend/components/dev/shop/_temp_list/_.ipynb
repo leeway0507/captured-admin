{
 "cells": [
  {
   "cell_type": "code",
   "execution_count": 2,
   "metadata": {},
   "outputs": [],
   "source": [
    "import pandas as pd\n",
    "\n",
    "\n",
    "data = pd.read_json(\"brand_list.json\")"
   ]
  },
  {
   "cell_type": "code",
   "execution_count": 23,
   "metadata": {},
   "outputs": [
    {
     "data": {
      "text/plain": [
       "array(['18montrose', '24s', '24s_w', '43einhalb', 'aboutyou',\n",
       "       'abovethecloudsstore', 'adidas kor official', 'adidas uk official',\n",
       "       'afew-store', 'allikestore', 'aphrodite1994', 'asos',\n",
       "       'asphaltgold', 'atmos-tokyo', 'baltini', 'bdgastore', 'beachim',\n",
       "       'beamhill', 'calicoclubstore', 'capsuletoronto', 'carnivalbkk',\n",
       "       'cettire', 'cliquelyf', 'club21', 'cncpts', 'coggles',\n",
       "       'consortium', 'cotwohk', 'cotyle', 'crossoverconceptstore',\n",
       "       'cultizm', 'def-shop', 'dtlr', 'end_clothing', 'farfetch_w',\n",
       "       'fast-forward-fashion', 'feature_w', 'finishline', 'flatspot',\n",
       "       'footasylum', 'footdistrict', 'footpatrol', 'gravitypope_m',\n",
       "       'gravitypope_w', 'hanon-shop', 'harresoe', 'havenshop',\n",
       "       'highsandlows_m', 'highsandlows_w', 'incu_m', 'incu_w', 'kith_m',\n",
       "       'kith_w', 'knowear', 'laced', 'lelabostore', 'mrporter',\n",
       "       'nakedcph', 'net-a-porter', 'nittygrittystore',\n",
       "       'nittygrittystore_w', 'oallery', 'offspring', 'oluxury_m',\n",
       "       'oluxury_w', 'oneblockdown', 'playgroundshop', 'rendez-vous-store',\n",
       "       'rezetstore', 'salomon official', 'selfridges', 'sevenstore',\n",
       "       'shoechapter', 'shooos', 'sivasdescalzo', 'size', 'slamjam',\n",
       "       'sneakersnstuff', 'solebox', 'solestop', 'ssense', 'ssense_m',\n",
       "       'ssense_w', 'stashedsf', 'suppastore', 'supplystore',\n",
       "       'the-broken-arm', 'thehipstore', 'theoutnet', 'theoutnet_w',\n",
       "       'tres-bien', 'upforward', 'uptherestore', 'urbanindustry',\n",
       "       'urbanstaroma', 'usc', 'usgstore_m', 'vooberlin', 'woodwood',\n",
       "       'workingclassheroes', 'xhibition', 'yoox_m', 'yoox_w', 'zalando',\n",
       "       'zappos'], dtype=object)"
      ]
     },
     "execution_count": 23,
     "metadata": {},
     "output_type": "execute_result"
    }
   ],
   "source": [
    "data['shop_name'].unique()"
   ]
  },
  {
   "cell_type": "code",
   "execution_count": 3,
   "metadata": {},
   "outputs": [
    {
     "data": {
      "text/html": [
       "<div>\n",
       "<style scoped>\n",
       "    .dataframe tbody tr th:only-of-type {\n",
       "        vertical-align: middle;\n",
       "    }\n",
       "\n",
       "    .dataframe tbody tr th {\n",
       "        vertical-align: top;\n",
       "    }\n",
       "\n",
       "    .dataframe thead th {\n",
       "        text-align: right;\n",
       "    }\n",
       "</style>\n",
       "<table border=\"1\" class=\"dataframe\">\n",
       "  <thead>\n",
       "    <tr style=\"text-align: right;\">\n",
       "      <th></th>\n",
       "      <th>shop_name</th>\n",
       "      <th>brand_name</th>\n",
       "      <th>brand_url</th>\n",
       "    </tr>\n",
       "  </thead>\n",
       "  <tbody>\n",
       "    <tr>\n",
       "      <th>0</th>\n",
       "      <td>18montrose</td>\n",
       "      <td>1017 alyx 9sm (88)</td>\n",
       "      <td>https://www.18montrose.com/1017-alyx-9sm</td>\n",
       "    </tr>\n",
       "    <tr>\n",
       "      <th>1</th>\n",
       "      <td>18montrose</td>\n",
       "      <td>a-cold-wall* (89)</td>\n",
       "      <td>https://www.18montrose.com/a-cold-wall</td>\n",
       "    </tr>\n",
       "    <tr>\n",
       "      <th>2</th>\n",
       "      <td>18montrose</td>\n",
       "      <td>a.p.c. (19)</td>\n",
       "      <td>https://www.18montrose.com/apc</td>\n",
       "    </tr>\n",
       "    <tr>\n",
       "      <th>3</th>\n",
       "      <td>18montrose</td>\n",
       "      <td>acne studios (254)</td>\n",
       "      <td>https://www.18montrose.com/acne-studios</td>\n",
       "    </tr>\n",
       "    <tr>\n",
       "      <th>4</th>\n",
       "      <td>18montrose</td>\n",
       "      <td>acronym (12)</td>\n",
       "      <td>https://www.18montrose.com/acronym</td>\n",
       "    </tr>\n",
       "    <tr>\n",
       "      <th>...</th>\n",
       "      <td>...</td>\n",
       "      <td>...</td>\n",
       "      <td>...</td>\n",
       "    </tr>\n",
       "    <tr>\n",
       "      <th>116</th>\n",
       "      <td>18montrose</td>\n",
       "      <td>veja (79)</td>\n",
       "      <td>https://www.18montrose.com/veja</td>\n",
       "    </tr>\n",
       "    <tr>\n",
       "      <th>117</th>\n",
       "      <td>18montrose</td>\n",
       "      <td>veja running (31)</td>\n",
       "      <td>https://www.18montrose.com/veja-running</td>\n",
       "    </tr>\n",
       "    <tr>\n",
       "      <th>118</th>\n",
       "      <td>18montrose</td>\n",
       "      <td>versace home (1)</td>\n",
       "      <td>https://www.18montrose.com/versace-home</td>\n",
       "    </tr>\n",
       "    <tr>\n",
       "      <th>119</th>\n",
       "      <td>18montrose</td>\n",
       "      <td>vetements (62)</td>\n",
       "      <td>https://www.18montrose.com/vetements</td>\n",
       "    </tr>\n",
       "    <tr>\n",
       "      <th>120</th>\n",
       "      <td>18montrose</td>\n",
       "      <td>y3 (153)</td>\n",
       "      <td>https://www.18montrose.com/y3</td>\n",
       "    </tr>\n",
       "  </tbody>\n",
       "</table>\n",
       "<p>121 rows × 3 columns</p>\n",
       "</div>"
      ],
      "text/plain": [
       "      shop_name          brand_name                                 brand_url\n",
       "0    18montrose  1017 alyx 9sm (88)  https://www.18montrose.com/1017-alyx-9sm\n",
       "1    18montrose   a-cold-wall* (89)    https://www.18montrose.com/a-cold-wall\n",
       "2    18montrose         a.p.c. (19)            https://www.18montrose.com/apc\n",
       "3    18montrose  acne studios (254)   https://www.18montrose.com/acne-studios\n",
       "4    18montrose        acronym (12)        https://www.18montrose.com/acronym\n",
       "..          ...                 ...                                       ...\n",
       "116  18montrose           veja (79)           https://www.18montrose.com/veja\n",
       "117  18montrose   veja running (31)   https://www.18montrose.com/veja-running\n",
       "118  18montrose    versace home (1)   https://www.18montrose.com/versace-home\n",
       "119  18montrose      vetements (62)      https://www.18montrose.com/vetements\n",
       "120  18montrose            y3 (153)             https://www.18montrose.com/y3\n",
       "\n",
       "[121 rows x 3 columns]"
      ]
     },
     "execution_count": 3,
     "metadata": {},
     "output_type": "execute_result"
    }
   ],
   "source": [
    "brand_name = '18montrose'\n",
    "shop_data = data[data['shop_name'] == brand_name]\n",
    "\n",
    "shop_data"
   ]
  },
  {
   "cell_type": "code",
   "execution_count": 4,
   "metadata": {},
   "outputs": [],
   "source": [
    "dict_data = shop_data.to_dict('records')\n",
    "brand_list = shop_data.brand_name.tolist()\n",
    "\n",
    "brand_data = {\"brand_list\":brand_list,\"data\":dict_data}\n",
    "\n",
    "import json \n",
    "with open(f\"{brand_name}.json\",\"w\") as f :\n",
    "    f.write(json.dumps(brand_data,ensure_ascii=False))\n"
   ]
  }
 ],
 "metadata": {
  "kernelspec": {
   "display_name": "Python 3",
   "language": "python",
   "name": "python3"
  },
  "language_info": {
   "codemirror_mode": {
    "name": "ipython",
    "version": 3
   },
   "file_extension": ".py",
   "mimetype": "text/x-python",
   "name": "python",
   "nbconvert_exporter": "python",
   "pygments_lexer": "ipython3",
   "version": "3.11.6"
  }
 },
 "nbformat": 4,
 "nbformat_minor": 2
}
