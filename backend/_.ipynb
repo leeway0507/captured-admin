{
 "cells": [
  {
   "cell_type": "code",
   "execution_count": 1,
   "metadata": {},
   "outputs": [],
   "source": [
    "import pandas as pd\n",
    "import sys\n",
    "import os \n",
    "\n",
    "# sys.path.append(\"../\")\n",
    "# sys.path.append(\"../../\")\n",
    "# sys.path.append(\"../../../\")\n",
    "\n"
   ]
  },
  {
   "cell_type": "code",
   "execution_count": 5,
   "metadata": {},
   "outputs": [
    {
     "data": {
      "text/plain": [
       "'https://www.consortium.co.uk/brands/a-p-c.html'"
      ]
     },
     "execution_count": 5,
     "metadata": {},
     "output_type": "execute_result"
    }
   ],
   "source": [
    "from router.dev.shop.components.shop_product_card_list.main import load_brand_url\n",
    "\n",
    "load_brand_url('consortium','a.p.c.')"
   ]
  },
  {
   "cell_type": "code",
   "execution_count": 3,
   "metadata": {},
   "outputs": [
    {
     "data": {
      "text/plain": [
       "({'kream_id': 15248,\n",
       "  'kream_product_img_url': 'https://kream-phinf.pstatic.net/MjAyMTA4MjNfNjcg/MDAxNjI5NzA3NzQ5MjM1.8BSgjOBS89R2vmupO5G1h_XXAAYs4-DD3breNilvBfwg.JjPFmtmHC05SInImY2nkNkurF60i0TUtM17O1DO2SRUg.PNG/a_91f875b7e3bd4522a2dad91159818008.png?type=l',\n",
       "  'kream_product_name': 'Adidas Samba OG Black White Gum',\n",
       "  'brand_name': 'Adidas',\n",
       "  'retail_price': '139,000원',\n",
       "  'product_id': 'B75807',\n",
       "  'product_release_date': '18/06/01',\n",
       "  'color': 'core black/cloud white/gum',\n",
       "  'wish': 84000,\n",
       "  'review': 847,\n",
       "  'updated_at': '2023-12-14 19:46:18'},)"
      ]
     },
     "execution_count": 3,
     "metadata": {},
     "output_type": "execute_result"
    }
   ],
   "source": [
    "from router.dev.utils.temp_file_manager import TempFileManager\n",
    "\n",
    "await TempFileManager(\"platform_page\").load_temp_file('product_detail')"
   ]
  }
 ],
 "metadata": {
  "kernelspec": {
   "display_name": "Python 3",
   "language": "python",
   "name": "python3"
  },
  "language_info": {
   "codemirror_mode": {
    "name": "ipython",
    "version": 3
   },
   "file_extension": ".py",
   "mimetype": "text/x-python",
   "name": "python",
   "nbconvert_exporter": "python",
   "pygments_lexer": "ipython3",
   "version": "3.11.6"
  },
  "orig_nbformat": 4
 },
 "nbformat": 4,
 "nbformat_minor": 2
}
