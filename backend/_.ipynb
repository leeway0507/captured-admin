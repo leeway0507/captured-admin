{
 "cells": [
  {
   "cell_type": "code",
   "execution_count": 1,
   "metadata": {},
   "outputs": [],
   "source": [
    "import pandas as pd\n",
    "import sys\n",
    "import os \n",
    "\n",
    "# sys.path.append(\"../\")\n",
    "# sys.path.append(\"../../\")\n",
    "# sys.path.append(\"../../../\")\n",
    "\n"
   ]
  },
  {
   "cell_type": "code",
   "execution_count": 1,
   "metadata": {},
   "outputs": [
    {
     "data": {
      "text/plain": [
       "'router/dev/kream/data/detail/temp/'"
      ]
     },
     "execution_count": 1,
     "metadata": {},
     "output_type": "execute_result"
    }
   ],
   "source": [
    "from dotenv import dotenv_values\n",
    "\n",
    "config = dotenv_values(\".env.dev\")\n",
    "\n",
    "config[\"KREAM_DETAILS_TEMP_DIR\"] "
   ]
  },
  {
   "cell_type": "code",
   "execution_count": 1,
   "metadata": {},
   "outputs": [
    {
     "name": "stdout",
     "output_type": "stream",
     "text": [
      "231103-012830 adidas\n"
     ]
    }
   ],
   "source": [
    "from router.dev.kream import create_last_update_kream_detail_log,get_kream_product_card\n",
    "\n",
    "data  =create_last_update_kream_detail_log(\"231103-012830-adidas\")"
   ]
  },
  {
   "cell_type": "code",
   "execution_count": 1,
   "metadata": {},
   "outputs": [],
   "source": [
    "from router.dev.kream import get_kream_buy_and_sell\n",
    "x = get_kream_buy_and_sell('adidas','231103-012830',sample=20)"
   ]
  },
  {
   "cell_type": "code",
   "execution_count": 6,
   "metadata": {},
   "outputs": [
    {
     "ename": "SyntaxError",
     "evalue": "invalid syntax (3360895286.py, line 7)",
     "output_type": "error",
     "traceback": [
      "\u001b[0;36m  Cell \u001b[0;32mIn[6], line 7\u001b[0;36m\u001b[0m\n\u001b[0;31m    data = [del row.product_id for row in x]\u001b[0m\n\u001b[0m            ^\u001b[0m\n\u001b[0;31mSyntaxError\u001b[0m\u001b[0;31m:\u001b[0m invalid syntax\n"
     ]
    }
   ],
   "source": [
    "from model.db_model_kream import KreamProductIdBridgeSchmea\n",
    "\n",
    "x = KreamProductIdBridgeSchmea(kream_id=123,product_id='asd')\n",
    "\n",
    "x = list(x)\n",
    "\n",
    "data = [del row.product_id for row in x]"
   ]
  },
  {
   "cell_type": "code",
   "execution_count": 4,
   "metadata": {},
   "outputs": [
    {
     "name": "stdout",
     "output_type": "stream",
     "text": [
      "2023-09-15 00:00:00\n"
     ]
    }
   ],
   "source": [
    "from datetime import datetime\n",
    "\n",
    "# value = datetime.now().replace(microsecond=0)\n",
    "value = \"2023-09-15T00:00:00\"\n",
    "parsed_datetime = datetime.strptime(value, \"%Y-%m-%dT%H:%M:%S\")\n",
    "print(parsed_datetime)"
   ]
  },
  {
   "cell_type": "code",
   "execution_count": 8,
   "metadata": {},
   "outputs": [
    {
     "data": {
      "text/plain": [
       "{'scrap_name': '231106-011606-adidas',\n",
       " 'brand': 'adidas',\n",
       " 'scrap_time': '231106-011606',\n",
       " 'num_process': 1,\n",
       " 'ref_product_card': '177304',\n",
       " 'scrap_result': {'177304': 'success'},\n",
       " 'db_update': True,\n",
       " 'kream_product_card': {'len': 1,\n",
       "  'kream_id_list': [177304],\n",
       "  'data': [{'kream_id': 177304,\n",
       "    'kream_product_img_url': 'https://kream-phinf.pstatic.net/MjAyMzA5MThfNDMg/MDAxNjk1MDAxMTkyNzk0.MPhdvYhgKKaCiOfb8-wyaVblv7JhQeqafM4E3gA-wGMg.0FlQFPi80zCdb0q-G5U1cFQKMNfTT8NGqeR5eFr5c3Ig.PNG/a_0235bb34e55445cba5577cf6b3575a73.png?type=l',\n",
       "    'kream_product_name': 'adidas gazelle core black gold metallic gum',\n",
       "    'brand_name': 'adidas',\n",
       "    'retail_price': 129000,\n",
       "    'product_release_date': '2023-09-15 00:00:00',\n",
       "    'color': 'core black/gold metallic/gum',\n",
       "    'wish': 7321,\n",
       "    'review': 7,\n",
       "    'updated_at': '2023-11-06 01:15:49'}]},\n",
       " 'kream_trading_volume': {'len': 1,\n",
       "  'kream_id_list': [177304],\n",
       "  'data': [{'kream_id': 177304,\n",
       "    'kream_product_size': '260',\n",
       "    'price': 133000,\n",
       "    'lightening': False,\n",
       "    'trading_at': '2023-11-06 00:00:00'},\n",
       "   {'kream_id': 177304,\n",
       "    'kream_product_size': '245',\n",
       "    'price': 143000,\n",
       "    'lightening': False,\n",
       "    'trading_at': '2023-11-06 00:00:00'},\n",
       "   {'kream_id': 177304,\n",
       "    'kream_product_size': '230',\n",
       "    'price': 144000,\n",
       "    'lightening': False,\n",
       "    'trading_at': '2023-11-06 00:00:00'},\n",
       "   {'kream_id': 177304,\n",
       "    'kream_product_size': '245',\n",
       "    'price': 142000,\n",
       "    'lightening': False,\n",
       "    'trading_at': '2023-11-05 00:00:00'},\n",
       "   {'kream_id': 177304,\n",
       "    'kream_product_size': '260',\n",
       "    'price': 133000,\n",
       "    'lightening': False,\n",
       "    'trading_at': '2023-11-05 00:00:00'},\n",
       "   {'kream_id': 177304,\n",
       "    'kream_product_size': '245',\n",
       "    'price': 139000,\n",
       "    'lightening': False,\n",
       "    'trading_at': '2023-11-05 00:00:00'},\n",
       "   {'kream_id': 177304,\n",
       "    'kream_product_size': '240',\n",
       "    'price': 155000,\n",
       "    'lightening': False,\n",
       "    'trading_at': '2023-11-05 00:00:00'},\n",
       "   {'kream_id': 177304,\n",
       "    'kream_product_size': '275',\n",
       "    'price': 138000,\n",
       "    'lightening': False,\n",
       "    'trading_at': '2023-11-05 00:00:00'},\n",
       "   {'kream_id': 177304,\n",
       "    'kream_product_size': '240',\n",
       "    'price': 154000,\n",
       "    'lightening': False,\n",
       "    'trading_at': '2023-11-05 00:00:00'},\n",
       "   {'kream_id': 177304,\n",
       "    'kream_product_size': '265',\n",
       "    'price': 140000,\n",
       "    'lightening': False,\n",
       "    'trading_at': '2023-11-05 00:00:00'}]},\n",
       " 'kream_buy_and_sell': {'len': 1,\n",
       "  'kream_id_list': [177304],\n",
       "  'data': [{'kream_id': 177304,\n",
       "    'kream_product_size': '220',\n",
       "    'buy': 135000,\n",
       "    'sell': 139000,\n",
       "    'updated_at': '2023-11-06 01:16:06'},\n",
       "   {'kream_id': 177304,\n",
       "    'kream_product_size': '225',\n",
       "    'buy': 130000,\n",
       "    'sell': 138000,\n",
       "    'updated_at': '2023-11-06 01:16:06'},\n",
       "   {'kream_id': 177304,\n",
       "    'kream_product_size': '230',\n",
       "    'buy': 130000,\n",
       "    'sell': 144000,\n",
       "    'updated_at': '2023-11-06 01:16:06'},\n",
       "   {'kream_id': 177304,\n",
       "    'kream_product_size': '235',\n",
       "    'buy': 135000,\n",
       "    'sell': 153000,\n",
       "    'updated_at': '2023-11-06 01:16:06'},\n",
       "   {'kream_id': 177304,\n",
       "    'kream_product_size': '240',\n",
       "    'buy': 130000,\n",
       "    'sell': 157000,\n",
       "    'updated_at': '2023-11-06 01:16:06'},\n",
       "   {'kream_id': 177304,\n",
       "    'kream_product_size': '245',\n",
       "    'buy': 80000,\n",
       "    'sell': 143000,\n",
       "    'updated_at': '2023-11-06 01:16:06'},\n",
       "   {'kream_id': 177304,\n",
       "    'kream_product_size': '250',\n",
       "    'buy': 130000,\n",
       "    'sell': 140000,\n",
       "    'updated_at': '2023-11-06 01:16:06'},\n",
       "   {'kream_id': 177304,\n",
       "    'kream_product_size': '255',\n",
       "    'buy': 0,\n",
       "    'sell': 139000,\n",
       "    'updated_at': '2023-11-06 01:16:06'},\n",
       "   {'kream_id': 177304,\n",
       "    'kream_product_size': '260',\n",
       "    'buy': 115000,\n",
       "    'sell': 134000,\n",
       "    'updated_at': '2023-11-06 01:16:06'},\n",
       "   {'kream_id': 177304,\n",
       "    'kream_product_size': '265',\n",
       "    'buy': 125000,\n",
       "    'sell': 150000,\n",
       "    'updated_at': '2023-11-06 01:16:06'}]},\n",
       " 'kream_product_bridge': {'len': 1,\n",
       "  'kream_id_list': [177304],\n",
       "  'data': [{'kream_id': 177304, 'product_id': 'ID6105'}]}}"
      ]
     },
     "execution_count": 8,
     "metadata": {},
     "output_type": "execute_result"
    }
   ],
   "source": [
    "import json\n",
    "\n",
    "\n",
    "def update_scrap_result(scrap_name, key, value):\n",
    "    path = \"router/dev/kream/data/scrap-result/\"\n",
    "    assert path, \"KREAM_SCRAP_RESULT_DIR is not defined in .env\"\n",
    "\n",
    "    with open(path + scrap_name + \".json\", \"r\") as f:\n",
    "        scrap_result = json.load(f)\n",
    "        scrap_result[key] = value\n",
    "\n",
    "    with open(path + scrap_name + \".json\", \"w\") as f:\n",
    "        f.write(json.dumps(scrap_result, default=str))\n",
    "\n",
    "    return scrap_result\n",
    "\n",
    "\n",
    "update_scrap_result(\"231106-011606-adidas\",\"scrap_name\",\"231106-011606-adidas\")"
   ]
  }
 ],
 "metadata": {
  "kernelspec": {
   "display_name": "Python 3",
   "language": "python",
   "name": "python3"
  },
  "language_info": {
   "codemirror_mode": {
    "name": "ipython",
    "version": 3
   },
   "file_extension": ".py",
   "mimetype": "text/x-python",
   "name": "python",
   "nbconvert_exporter": "python",
   "pygments_lexer": "ipython3",
   "version": "3.11.5"
  },
  "orig_nbformat": 4
 },
 "nbformat": 4,
 "nbformat_minor": 2
}
