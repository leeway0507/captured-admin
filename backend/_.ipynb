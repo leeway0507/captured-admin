{
 "cells": [
  {
   "cell_type": "code",
   "execution_count": 1,
   "metadata": {},
   "outputs": [],
   "source": [
    "import pandas as pd\n",
    "import sys\n",
    "import os \n",
    "\n",
    "# sys.path.append(\"../\")\n",
    "# sys.path.append(\"../../\")\n",
    "# sys.path.append(\"../../../\")\n",
    "\n"
   ]
  },
  {
   "cell_type": "code",
   "execution_count": 1,
   "metadata": {},
   "outputs": [
    {
     "data": {
      "text/plain": [
       "'router/dev/kream/data/detail/temp/'"
      ]
     },
     "execution_count": 1,
     "metadata": {},
     "output_type": "execute_result"
    }
   ],
   "source": [
    "from dotenv import dotenv_values\n",
    "\n",
    "config = dotenv_values(\".env.dev\")\n",
    "\n",
    "config[\"KREAM_DETAILS_TEMP_DIR\"] "
   ]
  },
  {
   "cell_type": "code",
   "execution_count": 1,
   "metadata": {},
   "outputs": [
    {
     "name": "stdout",
     "output_type": "stream",
     "text": [
      "231103-012830 adidas\n"
     ]
    }
   ],
   "source": [
    "from router.dev.kream import create_last_update_kream_detail_log,get_kream_product_card\n",
    "\n",
    "data  =create_last_update_kream_detail_log(\"231103-012830-adidas\")"
   ]
  },
  {
   "cell_type": "code",
   "execution_count": 1,
   "metadata": {},
   "outputs": [],
   "source": [
    "from router.dev.kream import get_kream_buy_and_sell\n",
    "x = get_kream_buy_and_sell('adidas','231103-012830',sample=20)"
   ]
  },
  {
   "cell_type": "code",
   "execution_count": 10,
   "metadata": {},
   "outputs": [
    {
     "data": {
      "text/plain": [
       "'{\"len\": 140, \"kream_id_list\": [96172, 96172, 96172, 96172, 96172, 96172, 96172, 96172, 96172, 96172, 96172, 96172, 96172, 96172, 96172, 96172, 26344, 26344, 26344, 26344, 26344, 26344, 26344, 26344, 26344, 26344, 26344, 26344, 26344, 26344, 26344, 26344, 26344, 64283, 64283, 64283, 64283, 64283, 64283, 64283, 64283, 64283, 64283, 64283, 64283, 64283, 64283, 64283, 64283, 64283, 55267, 55267, 55267, 55267, 55267, 55267, 55267, 55267, 55267, 55267, 55267, 55267, 55267, 55267, 55267, 55267, 55267, 55267, 122782, 122782, 122782, 122782, 122782, 122782, 122782, 122782, 122782, 122782, 122782, 122782, 122782, 122782, 122782, 122782, 122782, 55955, 55955, 55955, 55955, 55955, 55955, 55955, 55955, 55955, 55955, 55955, 55955, 55955, 55955, 55955, 55955, 55955, 90918, 90918, 90918, 90918, 90918, 90918, 90918, 90918, 90918, 90918, 90918, 90918, 90918, 90918, 90918, 90918, 90918, 15251, 15251, 15251, 15251, 15251, 15251, 15251, 15251, 15251, 15251, 15251, 15251, 15251, 15251, 15251, 15251, 15251, 15251, 15251, 15251, 15251], \"data\": [{\"kream_id\": 96172, \"kream_product_size\": \"220\", \"buy\": 81000, \"sell\": 117000, \"updated_at\": \"2023-11-03 01:28:30\"}, {\"kream_id\": 96172, \"kream_product_size\": \"225\", \"buy\": 0, \"sell\": 119000, \"updated_at\": \"2023-11-03 01:28:30\"}, {\"kream_id\": 96172, \"kream_product_size\": \"230\", \"buy\": 0, \"sell\": 117000, \"updated_at\": \"2023-11-03 01:28:30\"}, {\"kream_id\": 96172, \"kream_product_size\": \"235\", \"buy\": 70000, \"sell\": 118000, \"updated_at\": \"2023-11-03 01:28:30\"}, {\"kream_id\": 96172, \"kream_product_size\": \"240\", \"buy\": 0, \"sell\": 114000, \"updated_at\": \"2023-11-03 01:28:30\"}, {\"kream_id\": 96172, \"kream_product_size\": \"245\", \"buy\": 110000, \"sell\": 120000, \"updated_at\": \"2023-11-03 01:28:30\"}, {\"kream_id\": 96172, \"kream_product_size\": \"250\", \"buy\": 0, \"sell\": 119000, \"updated_at\": \"2023-11-03 01:28:30\"}, {\"kream_id\": 96172, \"kream_product_size\": \"255\", \"buy\": 0, \"sell\": 123000, \"updated_at\": \"2023-11-03 01:28:30\"}, {\"kream_id\": 96172, \"kream_product_size\": \"260\", \"buy\": 90000, \"sell\": 115000, \"updated_at\": \"2023-11-03 01:28:30\"}, {\"kream_id\": 96172, \"kream_product_size\": \"265\", \"buy\": 0, \"sell\": 119000, \"updated_at\": \"2023-11-03 01:28:30\"}, {\"kream_id\": 96172, \"kream_product_size\": \"270\", \"buy\": 100000, \"sell\": 116000, \"updated_at\": \"2023-11-03 01:28:30\"}, {\"kream_id\": 96172, \"kream_product_size\": \"275\", \"buy\": 0, \"sell\": 120000, \"updated_at\": \"2023-11-03 01:28:30\"}, {\"kream_id\": 96172, \"kream_product_size\": \"280\", \"buy\": 40000, \"sell\": 129000, \"updated_at\": \"2023-11-03 01:28:30\"}, {\"kream_id\": 96172, \"kream_product_size\": \"285\", \"buy\": 105000, \"sell\": 134000, \"updated_at\": \"2023-11-03 01:28:30\"}, {\"kream_id\": 96172, \"kream_product_size\": \"290\", \"buy\": 71000, \"sell\": 132000, \"updated_at\": \"2023-11-03 01:28:30\"}, {\"kream_id\": 96172, \"kream_product_size\": \"300\", \"buy\": 0, \"sell\": 133000, \"updated_at\": \"2023-11-03 01:28:30\"}, {\"kream_id\": 26344, \"kream_product_size\": \"215\", \"buy\": 100000, \"sell\": 0, \"updated_at\": \"2023-11-03 01:28:30\"}, {\"kream_id\": 26344, \"kream_product_size\": \"220\", \"buy\": 116000, \"sell\": 123000, \"updated_at\": \"2023-11-03 01:28:30\"}, {\"kream_id\": 26344, \"kream_product_size\": \"225\", \"buy\": 82000, \"sell\": 123000, \"updated_at\": \"2023-11-03 01:28:30\"}, {\"kream_id\": 26344, \"kream_product_size\": \"230\", \"buy\": 105000, \"sell\": 127000, \"updated_at\": \"2023-11-03 01:28:30\"}, {\"kream_id\": 26344, \"kream_product_size\": \"235\", \"buy\": 112000, \"sell\": 128000, \"updated_at\": \"2023-11-03 01:28:30\"}, {\"kream_id\": 26344, \"kream_product_size\": \"240\", \"buy\": 115000, \"sell\": 125000, \"updated_at\": \"2023-11-03 01:28:30\"}, {\"kream_id\": 26344, \"kream_product_size\": \"245\", \"buy\": 100000, \"sell\": 117000, \"updated_at\": \"2023-11-03 01:28:30\"}, {\"kream_id\": 26344, \"kream_product_size\": \"250\", \"buy\": 100000, \"sell\": 125000, \"updated_at\": \"2023-11-03 01:28:30\"}, {\"kream_id\": 26344, \"kream_product_size\": \"255\", \"buy\": 110000, \"sell\": 137000, \"updated_at\": \"2023-11-03 01:28:30\"}, {\"kream_id\": 26344, \"kream_product_size\": \"260\", \"buy\": 112000, \"sell\": 126000, \"updated_at\": \"2023-11-03 01:28:30\"}, {\"kream_id\": 26344, \"kream_product_size\": \"265\", \"buy\": 0, \"sell\": 128000, \"updated_at\": \"2023-11-03 01:28:30\"}, {\"kream_id\": 26344, \"kream_product_size\": \"270\", \"buy\": 0, \"sell\": 130000, \"updated_at\": \"2023-11-03 01:28:30\"}, {\"kream_id\": 26344, \"kream_product_size\": \"275\", \"buy\": 96000, \"sell\": 133000, \"updated_at\": \"2023-11-03 01:28:30\"}, {\"kream_id\": 26344, \"kream_product_size\": \"280\", \"buy\": 115000, \"sell\": 124000, \"updated_at\": \"2023-11-03 01:28:30\"}, {\"kream_id\": 26344, \"kream_product_size\": \"285\", \"buy\": 120000, \"sell\": 138000, \"updated_at\": \"2023-11-03 01:28:30\"}, {\"kream_id\": 26344, \"kream_product_size\": \"290\", \"buy\": 133000, \"sell\": 134000, \"updated_at\": \"2023-11-03 01:28:30\"}, {\"kream_id\": 26344, \"kream_product_size\": \"300\", \"buy\": 0, \"sell\": 149000, \"updated_at\": \"2023-11-03 01:28:30\"}, {\"kream_id\": 64283, \"kream_product_size\": \"220\", \"buy\": 0, \"sell\": 165000, \"updated_at\": \"2023-11-03 01:28:30\"}, {\"kream_id\": 64283, \"kream_product_size\": \"225\", \"buy\": 145000, \"sell\": 183000, \"updated_at\": \"2023-11-03 01:28:30\"}, {\"kream_id\": 64283, \"kream_product_size\": \"230\", \"buy\": 141000, \"sell\": 181000, \"updated_at\": \"2023-11-03 01:28:30\"}, {\"kream_id\": 64283, \"kream_product_size\": \"235\", \"buy\": 150000, \"sell\": 198000, \"updated_at\": \"2023-11-03 01:28:30\"}, {\"kream_id\": 64283, \"kream_product_size\": \"240\", \"buy\": 183000, \"sell\": 187000, \"updated_at\": \"2023-11-03 01:28:30\"}, {\"kream_id\": 64283, \"kream_product_size\": \"245\", \"buy\": 150000, \"sell\": 189000, \"updated_at\": \"2023-11-03 01:28:30\"}, {\"kream_id\": 64283, \"kream_product_size\": \"250\", \"buy\": 170000, \"sell\": 215000, \"updated_at\": \"2023-11-03 01:28:30\"}, {\"kream_id\": 64283, \"kream_product_size\": \"255\", \"buy\": 145000, \"sell\": 217000, \"updated_at\": \"2023-11-03 01:28:30\"}, {\"kream_id\": 64283, \"kream_product_size\": \"260\", \"buy\": 110000, \"sell\": 160000, \"updated_at\": \"2023-11-03 01:28:30\"}, {\"kream_id\": 64283, \"kream_product_size\": \"265\", \"buy\": 145000, \"sell\": 152000, \"updated_at\": \"2023-11-03 01:28:30\"}, {\"kream_id\": 64283, \"kream_product_size\": \"270\", \"buy\": 135000, \"sell\": 157000, \"updated_at\": \"2023-11-03 01:28:30\"}, {\"kream_id\": 64283, \"kream_product_size\": \"275\", \"buy\": 0, \"sell\": 151000, \"updated_at\": \"2023-11-03 01:28:30\"}, {\"kream_id\": 64283, \"kream_product_size\": \"280\", \"buy\": 0, \"sell\": 139000, \"updated_at\": \"2023-11-03 01:28:30\"}, {\"kream_id\": 64283, \"kream_product_size\": \"285\", \"buy\": 93000, \"sell\": 138000, \"updated_at\": \"2023-11-03 01:28:30\"}, {\"kream_id\": 64283, \"kream_product_size\": \"290\", \"buy\": 0, \"sell\": 167000, \"updated_at\": \"2023-11-03 01:28:30\"}, {\"kream_id\": 64283, \"kream_product_size\": \"295\", \"buy\": 0, \"sell\": 145000, \"updated_at\": \"2023-11-03 01:28:30\"}, {\"kream_id\": 64283, \"kream_product_size\": \"300\", \"buy\": 0, \"sell\": 179000, \"updated_at\": \"2023-11-03 01:28:30\"}, {\"kream_id\": 55267, \"kream_product_size\": \"220\", \"buy\": 215000, \"sell\": 249000, \"updated_at\": \"2023-11-03 01:28:30\"}, {\"kream_id\": 55267, \"kream_product_size\": \"225\", \"buy\": 240000, \"sell\": 348000, \"updated_at\": \"2023-11-03 01:28:30\"}, {\"kream_id\": 55267, \"kream_product_size\": \"230\", \"buy\": 230000, \"sell\": 270000, \"updated_at\": \"2023-11-03 01:28:30\"}, {\"kream_id\": 55267, \"kream_product_size\": \"235\", \"buy\": 250000, \"sell\": 272000, \"updated_at\": \"2023-11-03 01:28:30\"}, {\"kream_id\": 55267, \"kream_product_size\": \"240\", \"buy\": 220000, \"sell\": 258000, \"updated_at\": \"2023-11-03 01:28:30\"}, {\"kream_id\": 55267, \"kream_product_size\": \"245\", \"buy\": 190000, \"sell\": 239000, \"updated_at\": \"2023-11-03 01:28:30\"}, {\"kream_id\": 55267, \"kream_product_size\": \"250\", \"buy\": 0, \"sell\": 269000, \"updated_at\": \"2023-11-03 01:28:30\"}, {\"kream_id\": 55267, \"kream_product_size\": \"255\", \"buy\": 166000, \"sell\": 200000, \"updated_at\": \"2023-11-03 01:28:30\"}, {\"kream_id\": 55267, \"kream_product_size\": \"260\", \"buy\": 155000, \"sell\": 227000, \"updated_at\": \"2023-11-03 01:28:30\"}, {\"kream_id\": 55267, \"kream_product_size\": \"265\", \"buy\": 109000, \"sell\": 230000, \"updated_at\": \"2023-11-03 01:28:30\"}, {\"kream_id\": 55267, \"kream_product_size\": \"270\", \"buy\": 200000, \"sell\": 238000, \"updated_at\": \"2023-11-03 01:28:30\"}, {\"kream_id\": 55267, \"kream_product_size\": \"275\", \"buy\": 143000, \"sell\": 205000, \"updated_at\": \"2023-11-03 01:28:30\"}, {\"kream_id\": 55267, \"kream_product_size\": \"280\", \"buy\": 110000, \"sell\": 199000, \"updated_at\": \"2023-11-03 01:28:30\"}, {\"kream_id\": 55267, \"kream_product_size\": \"285\", \"buy\": 139000, \"sell\": 190000, \"updated_at\": \"2023-11-03 01:28:30\"}, {\"kream_id\": 55267, \"kream_product_size\": \"290\", \"buy\": 0, \"sell\": 230000, \"updated_at\": \"2023-11-03 01:28:30\"}, {\"kream_id\": 55267, \"kream_product_size\": \"295\", \"buy\": 0, \"sell\": 200000, \"updated_at\": \"2023-11-03 01:28:30\"}, {\"kream_id\": 55267, \"kream_product_size\": \"300\", \"buy\": 0, \"sell\": 159000, \"updated_at\": \"2023-11-03 01:28:30\"}, {\"kream_id\": 55267, \"kream_product_size\": \"305\", \"buy\": 0, \"sell\": 198000, \"updated_at\": \"2023-11-03 01:28:30\"}, {\"kream_id\": 122782, \"kream_product_size\": \"220\", \"buy\": 120000, \"sell\": 140000, \"updated_at\": \"2023-11-03 01:28:30\"}, {\"kream_id\": 122782, \"kream_product_size\": \"225\", \"buy\": 131000, \"sell\": 147000, \"updated_at\": \"2023-11-03 01:28:30\"}, {\"kream_id\": 122782, \"kream_product_size\": \"230\", \"buy\": 139000, \"sell\": 150000, \"updated_at\": \"2023-11-03 01:28:30\"}, {\"kream_id\": 122782, \"kream_product_size\": \"235\", \"buy\": 140000, \"sell\": 148000, \"updated_at\": \"2023-11-03 01:28:30\"}, {\"kream_id\": 122782, \"kream_product_size\": \"240\", \"buy\": 130000, \"sell\": 146000, \"updated_at\": \"2023-11-03 01:28:30\"}, {\"kream_id\": 122782, \"kream_product_size\": \"245\", \"buy\": 131000, \"sell\": 139000, \"updated_at\": \"2023-11-03 01:28:30\"}, {\"kream_id\": 122782, \"kream_product_size\": \"250\", \"buy\": 119000, \"sell\": 147000, \"updated_at\": \"2023-11-03 01:28:30\"}, {\"kream_id\": 122782, \"kream_product_size\": \"255\", \"buy\": 0, \"sell\": 145000, \"updated_at\": \"2023-11-03 01:28:30\"}, {\"kream_id\": 122782, \"kream_product_size\": \"260\", \"buy\": 90000, \"sell\": 152000, \"updated_at\": \"2023-11-03 01:28:30\"}, {\"kream_id\": 122782, \"kream_product_size\": \"265\", \"buy\": 110000, \"sell\": 145000, \"updated_at\": \"2023-11-03 01:28:30\"}, {\"kream_id\": 122782, \"kream_product_size\": \"270\", \"buy\": 0, \"sell\": 144000, \"updated_at\": \"2023-11-03 01:28:30\"}, {\"kream_id\": 122782, \"kream_product_size\": \"275\", \"buy\": 0, \"sell\": 154000, \"updated_at\": \"2023-11-03 01:28:30\"}, {\"kream_id\": 122782, \"kream_product_size\": \"280\", \"buy\": 110000, \"sell\": 147000, \"updated_at\": \"2023-11-03 01:28:30\"}, {\"kream_id\": 122782, \"kream_product_size\": \"285\", \"buy\": 101000, \"sell\": 140000, \"updated_at\": \"2023-11-03 01:28:30\"}, {\"kream_id\": 122782, \"kream_product_size\": \"290\", \"buy\": 109000, \"sell\": 145000, \"updated_at\": \"2023-11-03 01:28:30\"}, {\"kream_id\": 122782, \"kream_product_size\": \"295\", \"buy\": 100000, \"sell\": 164000, \"updated_at\": \"2023-11-03 01:28:30\"}, {\"kream_id\": 122782, \"kream_product_size\": \"300\", \"buy\": 160000, \"sell\": 225000, \"updated_at\": \"2023-11-03 01:28:30\"}, {\"kream_id\": 55955, \"kream_product_size\": \"220\", \"buy\": 119000, \"sell\": 146000, \"updated_at\": \"2023-11-03 01:28:30\"}, {\"kream_id\": 55955, \"kream_product_size\": \"225\", \"buy\": 0, \"sell\": 141000, \"updated_at\": \"2023-11-03 01:28:30\"}, {\"kream_id\": 55955, \"kream_product_size\": \"230\", \"buy\": 0, \"sell\": 139000, \"updated_at\": \"2023-11-03 01:28:30\"}, {\"kream_id\": 55955, \"kream_product_size\": \"235\", \"buy\": 130000, \"sell\": 140000, \"updated_at\": \"2023-11-03 01:28:30\"}, {\"kream_id\": 55955, \"kream_product_size\": \"240\", \"buy\": 130000, \"sell\": 144000, \"updated_at\": \"2023-11-03 01:28:30\"}, {\"kream_id\": 55955, \"kream_product_size\": \"245\", \"buy\": 122000, \"sell\": 141000, \"updated_at\": \"2023-11-03 01:28:30\"}, {\"kream_id\": 55955, \"kream_product_size\": \"250\", \"buy\": 130000, \"sell\": 145000, \"updated_at\": \"2023-11-03 01:28:30\"}, {\"kream_id\": 55955, \"kream_product_size\": \"255\", \"buy\": 140000, \"sell\": 155000, \"updated_at\": \"2023-11-03 01:28:30\"}, {\"kream_id\": 55955, \"kream_product_size\": \"260\", \"buy\": 0, \"sell\": 146000, \"updated_at\": \"2023-11-03 01:28:30\"}, {\"kream_id\": 55955, \"kream_product_size\": \"265\", \"buy\": 0, \"sell\": 139000, \"updated_at\": \"2023-11-03 01:28:30\"}, {\"kream_id\": 55955, \"kream_product_size\": \"270\", \"buy\": 110000, \"sell\": 148000, \"updated_at\": \"2023-11-03 01:28:30\"}, {\"kream_id\": 55955, \"kream_product_size\": \"275\", \"buy\": 90000, \"sell\": 146000, \"updated_at\": \"2023-11-03 01:28:30\"}, {\"kream_id\": 55955, \"kream_product_size\": \"280\", \"buy\": 135000, \"sell\": 155000, \"updated_at\": \"2023-11-03 01:28:30\"}, {\"kream_id\": 55955, \"kream_product_size\": \"285\", \"buy\": 60000, \"sell\": 144000, \"updated_at\": \"2023-11-03 01:28:30\"}, {\"kream_id\": 55955, \"kream_product_size\": \"290\", \"buy\": 0, \"sell\": 153000, \"updated_at\": \"2023-11-03 01:28:30\"}, {\"kream_id\": 55955, \"kream_product_size\": \"295\", \"buy\": 0, \"sell\": 184000, \"updated_at\": \"2023-11-03 01:28:30\"}, {\"kream_id\": 55955, \"kream_product_size\": \"305\", \"buy\": 50000, \"sell\": 0, \"updated_at\": \"2023-11-03 01:28:30\"}, {\"kream_id\": 90918, \"kream_product_size\": \"215\", \"buy\": 0, \"sell\": 275000, \"updated_at\": \"2023-11-03 01:28:30\"}, {\"kream_id\": 90918, \"kream_product_size\": \"220\", \"buy\": 0, \"sell\": 148000, \"updated_at\": \"2023-11-03 01:28:30\"}, {\"kream_id\": 90918, \"kream_product_size\": \"225\", \"buy\": 100000, \"sell\": 148000, \"updated_at\": \"2023-11-03 01:28:30\"}, {\"kream_id\": 90918, \"kream_product_size\": \"230\", \"buy\": 130000, \"sell\": 158000, \"updated_at\": \"2023-11-03 01:28:30\"}, {\"kream_id\": 90918, \"kream_product_size\": \"235\", \"buy\": 140000, \"sell\": 149000, \"updated_at\": \"2023-11-03 01:28:30\"}, {\"kream_id\": 90918, \"kream_product_size\": \"240\", \"buy\": 138000, \"sell\": 140000, \"updated_at\": \"2023-11-03 01:28:30\"}, {\"kream_id\": 90918, \"kream_product_size\": \"245\", \"buy\": 120000, \"sell\": 148000, \"updated_at\": \"2023-11-03 01:28:30\"}, {\"kream_id\": 90918, \"kream_product_size\": \"250\", \"buy\": 131000, \"sell\": 143000, \"updated_at\": \"2023-11-03 01:28:30\"}, {\"kream_id\": 90918, \"kream_product_size\": \"255\", \"buy\": 75000, \"sell\": 150000, \"updated_at\": \"2023-11-03 01:28:30\"}, {\"kream_id\": 90918, \"kream_product_size\": \"260\", \"buy\": 0, \"sell\": 173000, \"updated_at\": \"2023-11-03 01:28:30\"}, {\"kream_id\": 90918, \"kream_product_size\": \"265\", \"buy\": 125000, \"sell\": 148000, \"updated_at\": \"2023-11-03 01:28:30\"}, {\"kream_id\": 90918, \"kream_product_size\": \"270\", \"buy\": 150000, \"sell\": 165000, \"updated_at\": \"2023-11-03 01:28:30\"}, {\"kream_id\": 90918, \"kream_product_size\": \"275\", \"buy\": 149000, \"sell\": 167000, \"updated_at\": \"2023-11-03 01:28:30\"}, {\"kream_id\": 90918, \"kream_product_size\": \"280\", \"buy\": 150000, \"sell\": 176000, \"updated_at\": \"2023-11-03 01:28:30\"}, {\"kream_id\": 90918, \"kream_product_size\": \"285\", \"buy\": 138000, \"sell\": 169000, \"updated_at\": \"2023-11-03 01:28:30\"}, {\"kream_id\": 90918, \"kream_product_size\": \"290\", \"buy\": 121000, \"sell\": 215000, \"updated_at\": \"2023-11-03 01:28:30\"}, {\"kream_id\": 90918, \"kream_product_size\": \"300\", \"buy\": 0, \"sell\": 165000, \"updated_at\": \"2023-11-03 01:28:30\"}, {\"kream_id\": 15251, \"kream_product_size\": \"215\", \"buy\": 0, \"sell\": 125000, \"updated_at\": \"2023-11-03 01:28:30\"}, {\"kream_id\": 15251, \"kream_product_size\": \"220\", \"buy\": 130000, \"sell\": 140000, \"updated_at\": \"2023-11-03 01:28:30\"}, {\"kream_id\": 15251, \"kream_product_size\": \"225\", \"buy\": 139000, \"sell\": 142000, \"updated_at\": \"2023-11-03 01:28:30\"}, {\"kream_id\": 15251, \"kream_product_size\": \"230\", \"buy\": 140000, \"sell\": 145000, \"updated_at\": \"2023-11-03 01:28:30\"}, {\"kream_id\": 15251, \"kream_product_size\": \"235\", \"buy\": 143000, \"sell\": 149000, \"updated_at\": \"2023-11-03 01:28:30\"}, {\"kream_id\": 15251, \"kream_product_size\": \"240\", \"buy\": 146000, \"sell\": 152000, \"updated_at\": \"2023-11-03 01:28:30\"}, {\"kream_id\": 15251, \"kream_product_size\": \"245\", \"buy\": 140000, \"sell\": 144000, \"updated_at\": \"2023-11-03 01:28:30\"}, {\"kream_id\": 15251, \"kream_product_size\": \"250\", \"buy\": 143000, \"sell\": 152000, \"updated_at\": \"2023-11-03 01:28:30\"}, {\"kream_id\": 15251, \"kream_product_size\": \"255\", \"buy\": 130000, \"sell\": 153000, \"updated_at\": \"2023-11-03 01:28:30\"}, {\"kream_id\": 15251, \"kream_product_size\": \"260\", \"buy\": 131000, \"sell\": 151000, \"updated_at\": \"2023-11-03 01:28:30\"}, {\"kream_id\": 15251, \"kream_product_size\": \"265\", \"buy\": 141000, \"sell\": 145000, \"updated_at\": \"2023-11-03 01:28:30\"}, {\"kream_id\": 15251, \"kream_product_size\": \"270\", \"buy\": 136000, \"sell\": 149000, \"updated_at\": \"2023-11-03 01:28:30\"}, {\"kream_id\": 15251, \"kream_product_size\": \"275\", \"buy\": 135000, \"sell\": 151000, \"updated_at\": \"2023-11-03 01:28:30\"}, {\"kream_id\": 15251, \"kream_product_size\": \"280\", \"buy\": 134000, \"sell\": 152000, \"updated_at\": \"2023-11-03 01:28:30\"}, {\"kream_id\": 15251, \"kream_product_size\": \"285\", \"buy\": 130000, \"sell\": 145000, \"updated_at\": \"2023-11-03 01:28:30\"}, {\"kream_id\": 15251, \"kream_product_size\": \"290\", \"buy\": 0, \"sell\": 141000, \"updated_at\": \"2023-11-03 01:28:30\"}, {\"kream_id\": 15251, \"kream_product_size\": \"295\", \"buy\": 70000, \"sell\": 144000, \"updated_at\": \"2023-11-03 01:28:30\"}, {\"kream_id\": 15251, \"kream_product_size\": \"300\", \"buy\": 115000, \"sell\": 153000, \"updated_at\": \"2023-11-03 01:28:30\"}, {\"kream_id\": 15251, \"kream_product_size\": \"305\", \"buy\": 93000, \"sell\": 200000, \"updated_at\": \"2023-11-03 01:28:30\"}, {\"kream_id\": 15251, \"kream_product_size\": \"310\", \"buy\": 0, \"sell\": 201000, \"updated_at\": \"2023-11-03 01:28:30\"}, {\"kream_id\": 15251, \"kream_product_size\": \"320\", \"buy\": 0, \"sell\": 250000, \"updated_at\": \"2023-11-03 01:28:30\"}]}'"
      ]
     },
     "execution_count": 10,
     "metadata": {},
     "output_type": "execute_result"
    }
   ],
   "source": [
    "import json\n",
    "json.dumps(x,default=str)"
   ]
  }
 ],
 "metadata": {
  "kernelspec": {
   "display_name": "Python 3",
   "language": "python",
   "name": "python3"
  },
  "language_info": {
   "codemirror_mode": {
    "name": "ipython",
    "version": 3
   },
   "file_extension": ".py",
   "mimetype": "text/x-python",
   "name": "python",
   "nbconvert_exporter": "python",
   "pygments_lexer": "ipython3",
   "version": "3.11.5"
  },
  "orig_nbformat": 4
 },
 "nbformat": 4,
 "nbformat_minor": 2
}
