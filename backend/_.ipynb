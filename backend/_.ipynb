{
 "cells": [
  {
   "cell_type": "markdown",
   "metadata": {},
   "source": [
    "# ShopList"
   ]
  },
  {
   "cell_type": "code",
   "execution_count": null,
   "metadata": {},
   "outputs": [],
   "source": [
    "from components.dev.shop.shop_product_card_list.list_scraper import ShopListScrapMachine\n",
    "from components.dev.utils.browser_controller import PwBrowserController\n",
    "browser_controller = await PwBrowserController().create()\n",
    "page_controller = await browser_controller.create_page_controller()\n",
    "page = await page_controller.get_page()\n",
    "\n",
    "\n",
    "await page.goto('https://www.sevenstore.com/brands/adidas/')"
   ]
  },
  {
   "cell_type": "code",
   "execution_count": null,
   "metadata": {},
   "outputs": [],
   "source": [
    "import json\n",
    "from typing import List, Dict, Any\n",
    "from playwright.async_api import Page\n",
    "from components.dev.shop.shop_product_card_list.schema import ListConfig, ListScrapData\n",
    "from bs4 import BeautifulSoup, Tag\n",
    "from components.dev.shop.shop_list.parent_class import PwShopList\n",
    "\n",
    "class PwSevenStoreList(PwShopList):\n",
    "    def __name__(self) -> str:\n",
    "        return \"seven_store\"\n",
    "\n",
    "    def config(self) -> ListConfig:\n",
    "        return ListConfig(\n",
    "            scroll_on=True,\n",
    "            reverse_not_found_result=True,\n",
    "            page_reload_after_cookies=False,\n",
    "            cookie_button_xpath=[\n",
    "                '//button[@class=\"btn btn-level1 accept-all-cookies\"]'\n",
    "            ],\n",
    "            not_found_xpath='//div[contains(@id,\"listing-list\")]',\n",
    "            max_scroll=30,\n",
    "        )\n",
    "\n",
    "    async def extract_card_html(self, page) -> List[Tag] | None:\n",
    "        product_cards = await page.query_selector('//div[contains(@id,\"listing-list\")]')\n",
    "        if product_cards:\n",
    "            cards = await product_cards.inner_html()\n",
    "            cards = BeautifulSoup(cards, \"html.parser\")\n",
    "            cards = cards.find_all(attrs={\"class\": \"nodecor\"})\n",
    "            # 종종 제품 카드에 홍보용 카드가 들어가는 경우가 있음, 홍보용 카드는 nodecor 클래스는 있지만 id는 없음\n",
    "            cards = [card for card in cards if card.get(\"id\") is not None]\n",
    "            assert cards, \"load_product_card : No product cards found\"\n",
    "            return cards\n",
    "        else:\n",
    "            return None\n",
    "\n",
    "    def extract_info(self, card: Tag, brand_name: str) -> ListScrapData:\n",
    "        product_name = card.find(\"a\", class_=\"f-hover-decor\").text  # type: ignore\n",
    "        shop_product_name = product_name + \" - \" + card[\"data-nq-product\"]  # type: ignore\n",
    "        price = card.find(attrs={\"data-listing\": \"price\"}).text.split(\" RRP\")[0]  # type: ignore\n",
    "\n",
    "        return ListScrapData(\n",
    "            shop_name=self.__name__(),\n",
    "            brand_name=brand_name,\n",
    "            shop_product_name=shop_product_name,\n",
    "            shop_product_img_url=card.img[\"src\"],  # type: ignore\n",
    "            product_url=card.img[\"data-url\"],  # type: ignore\n",
    "            price=price,\n",
    "        )\n",
    "\n",
    "    async def get_next_page(self, page: Page, page_num: int) -> bool:\n",
    "        return False"
   ]
  },
  {
   "cell_type": "markdown",
   "metadata": {},
   "source": [
    "## cookies Modals ..."
   ]
  },
  {
   "cell_type": "markdown",
   "metadata": {},
   "source": [
    "## extract card html"
   ]
  },
  {
   "cell_type": "code",
   "execution_count": null,
   "metadata": {},
   "outputs": [],
   "source": [
    "module = PwSevenStoreList()\n",
    "\n",
    "cards = await module.extract_card_html(page)"
   ]
  },
  {
   "cell_type": "code",
   "execution_count": null,
   "metadata": {},
   "outputs": [],
   "source": []
  },
  {
   "cell_type": "code",
   "execution_count": null,
   "metadata": {},
   "outputs": [],
   "source": [
    "data = module.extract_info(cards[0], \"adidas\")"
   ]
  },
  {
   "cell_type": "code",
   "execution_count": null,
   "metadata": {},
   "outputs": [],
   "source": [
    "from model.db_model_shop import ShopProductCardSchema\n",
    "from components.dev.shop.currency import Currency\n",
    "from datetime import datetime\n",
    "\n",
    "\n",
    "\n",
    "def _preprocess_list_data(\n",
    "    cards_info: List[ListScrapData],\n",
    ") -> List[ShopProductCardSchema]:\n",
    "    currency = Currency()\n",
    "\n",
    "    # currency\n",
    "    lst = []\n",
    "    for card in cards_info:\n",
    "        price = card.price\n",
    "\n",
    "        _, curr_name, origin_price = currency.get_price_info(price)\n",
    "\n",
    "        (_, _, us_price) = currency.change_currency_to_custom_usd(price)\n",
    "\n",
    "        (_, _, kor_price) = currency.change_currency_to_buying_won(price)\n",
    "\n",
    "        data = card.model_dump()\n",
    "        print(data)\n",
    "\n",
    "        lst.append(\n",
    "            ShopProductCardSchema(\n",
    "                **data,\n",
    "                original_price_currency=curr_name,\n",
    "                original_price=origin_price,\n",
    "                us_price=us_price,\n",
    "                kor_price=int(round(kor_price, -3)),\n",
    "                updated_at=datetime.now().replace(microsecond=0),\n",
    "            )\n",
    "        )\n",
    "    return lst\n",
    "\n",
    "_preprocess_list_data([data])"
   ]
  },
  {
   "cell_type": "markdown",
   "metadata": {},
   "source": [
    "# ShopPage"
   ]
  },
  {
   "cell_type": "code",
   "execution_count": null,
   "metadata": {},
   "outputs": [],
   "source": [
    "from components.dev.shop.shop_product_card_list.list_scraper import ShopListScrapMachine\n",
    "from components.dev.utils.browser_controller import PwBrowserController\n",
    "browser_controller = await PwBrowserController().create()\n",
    "page_controller = await browser_controller.create_page_controller()\n",
    "page = await page_controller.get_page()\n",
    "\n",
    "\n",
    "await page.goto('https://www.sevenstore.com/tops/hoodies/human-made-grey-heart-logo-printed-hoodie/')"
   ]
  },
  {
   "cell_type": "code",
   "execution_count": null,
   "metadata": {},
   "outputs": [],
   "source": [
    "import json\n",
    "from typing import List, Dict, Any\n",
    "from playwright.async_api import Page,expect\n",
    "from components.dev.shop.shop_product_card_list.schema import ListConfig, ListScrapData\n",
    "from bs4 import BeautifulSoup, Tag\n",
    "from components.dev.shop.shop_list.parent_class import PwShopPage\n",
    "\n",
    "class PwSevenStorePage(PwShopPage):\n",
    "    def __name__(self) -> str:\n",
    "        return \"seven_store\"\n",
    "\n",
    "    def get_cookie_button_xpath(self) -> List[str]:\n",
    "        return [\"\"]\n",
    "\n",
    "    async def get_size_info(self, page: Page) -> List[Dict[str, Any]]:\n",
    "        locator = page.locator(\".product-sizes-title\")\n",
    "        await expect(locator).to_contain_text(\"Sizes\", timeout=10000)\n",
    "\n",
    "        size_query = await page.query_selector_all(\n",
    "            '//div[contains(@class, \"size-wrapper\")]',\n",
    "        )\n",
    "\n",
    "        size_list = [await s.inner_text() for s in size_query]\n",
    "\n",
    "        if not size_list:\n",
    "            return [{\"shop_product_size\": \"-\", \"kor_product_size\": \"-\"}]\n",
    "\n",
    "        l = []\n",
    "        for s in size_list:\n",
    "            kor_size = s\n",
    "            try:\n",
    "                if float(s) < 15:\n",
    "                    kor_size = \"UK \" + s\n",
    "            except:\n",
    "                pass\n",
    "            l.append({\"shop_product_size\": s, \"kor_product_size\": kor_size})\n",
    "\n",
    "        return l\n",
    "\n",
    "    async def get_product_id(self, page: Page) -> str:\n",
    "        product_id_text = await page.query_selector(\n",
    "            '//meta[contains(@name, \"description\")]',\n",
    "        )\n",
    "\n",
    "        try:\n",
    "            product_id_text = await product_id_text.get_attribute(\"content\")  # type: ignore\n",
    "            product_id = product_id_text.split(\":\")[1].replace(\" \", \"\")  # type: ignore\n",
    "        except:\n",
    "            product_id = \"-\"\n",
    "\n",
    "        return product_id.upper()"
   ]
  },
  {
   "cell_type": "code",
   "execution_count": null,
   "metadata": {},
   "outputs": [],
   "source": [
    "module = PwSevenStorePage()\n",
    "\n",
    "cards = await module.get_size_info(page)\n",
    "cards"
   ]
  },
  {
   "cell_type": "code",
   "execution_count": null,
   "metadata": {},
   "outputs": [],
   "source": [
    "id = await module.get_product_id(page)\n",
    "id"
   ]
  },
  {
   "cell_type": "code",
   "execution_count": null,
   "metadata": {},
   "outputs": [],
   "source": [
    "from components.dev.shop.table_data_loader import ShopTableDataLoader, TableType, SearchType\n",
    "from db.dev_db import session_local as dev_session\n",
    "from db.production_db import session_local as prod_session\n",
    "\n",
    "dev_db = dev_session()\n",
    "prod_db=prod_session()\n",
    "\n",
    "\n",
    "loader = ShopTableDataLoader(admin_db=dev_db,prod_db=prod_db,table_type=TableType.CANDIDATE_TABLE,search_type=SearchType.BRAND_NAME)\n",
    "await loader.extract_data('adidas')"
   ]
  },
  {
   "cell_type": "code",
   "execution_count": null,
   "metadata": {},
   "outputs": [],
   "source": [
    "from components.dev.utils.temp_file_manager import TempFileManager\n",
    "import os\n",
    "import pandas as pd\n",
    "from datetime import datetime\n",
    "tfm = TempFileManager(\"shop_list\")\n",
    "\n",
    "time_now = datetime.now().strftime(\"%y%m%d-%H%M%S\")\n",
    "list_data = await tfm.load_temp_file(\"product_card_list\")\n",
    "save_path = os.path.join('./')\n",
    "if not os.path.exists(save_path):\n",
    "    os.makedirs(save_path, exist_ok=True)\n",
    "\n",
    "file_path = os.path.join(save_path, f\"{time_now}.parquet.gzip\")\n",
    "\n",
    "# pd.DataFrame(list_data).drop_duplicates(subset=\"shop_product_name\").to_parquet(\n",
    "#     path=file_path, compression=\"gzip\"\n",
    "# )"
   ]
  },
  {
   "cell_type": "code",
   "execution_count": null,
   "metadata": {},
   "outputs": [],
   "source": [
    "list_data"
   ]
  },
  {
   "cell_type": "code",
   "execution_count": null,
   "metadata": {},
   "outputs": [],
   "source": [
    "# from itertools import chain\n",
    "\n",
    "# list_data = list(chain(*list_data))\n",
    "\n",
    "df = pd.DataFrame(list_data)\n",
    "\n",
    "df"
   ]
  },
  {
   "cell_type": "code",
   "execution_count": null,
   "metadata": {},
   "outputs": [],
   "source": [
    "df.drop_duplicates(subset=\"shop_product_name\").reset_index(drop=True).to_parquet(path=file_path, compression=\"gzip\")"
   ]
  },
  {
   "cell_type": "code",
   "execution_count": null,
   "metadata": {},
   "outputs": [],
   "source": []
  }
 ],
 "metadata": {
  "kernelspec": {
   "display_name": "Python 3",
   "language": "python",
   "name": "python3"
  },
  "language_info": {
   "codemirror_mode": {
    "name": "ipython",
    "version": 3
   },
   "file_extension": ".py",
   "mimetype": "text/x-python",
   "name": "python",
   "nbconvert_exporter": "python",
   "pygments_lexer": "ipython3",
   "version": "3.11.6"
  },
  "orig_nbformat": 4
 },
 "nbformat": 4,
 "nbformat_minor": 2
}
