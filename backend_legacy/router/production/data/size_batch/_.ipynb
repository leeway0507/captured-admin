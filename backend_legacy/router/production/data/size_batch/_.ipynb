{
 "cells": [
  {
   "cell_type": "code",
   "execution_count": 1,
   "metadata": {},
   "outputs": [],
   "source": [
    "import pandas as pd"
   ]
  },
  {
   "cell_type": "code",
   "execution_count": 2,
   "metadata": {},
   "outputs": [],
   "source": [
    "product_info_table = pd.read_parquet('./20231201-124447/product_info_table.parquet.gzip')\n",
    "\n",
    "shop_product_card_table = pd.read_parquet('./20231201-124447/shop_product_card_table.parquet.gzip')\n",
    "\n",
    "shop_product_size_table = pd.read_parquet('./20231201-124447/shop_product_size_table.parquet.gzip')"
   ]
  },
  {
   "cell_type": "code",
   "execution_count": 20,
   "metadata": {},
   "outputs": [
    {
     "data": {
      "text/plain": [
       "'20231206-212359'"
      ]
     },
     "execution_count": 20,
     "metadata": {},
     "output_type": "execute_result"
    }
   ],
   "source": [
    "shop_product_size_table['updated_at'].sort_values().tail(1).iloc[0].strftime(\"%Y%m%d-%H%M%S\")"
   ]
  },
  {
   "cell_type": "code",
   "execution_count": 50,
   "metadata": {},
   "outputs": [],
   "source": [
    "sku_prod_id = product_info_table[['sku','product_id']]\n",
    "prod_id_sh_prod_id = shop_product_card_table[['product_id','shop_product_card_id']]\n",
    "sku_prod_id_sh_pro_id =pd.merge(prod_id_sh_prod_id,sku_prod_id, on='product_id', how='inner')"
   ]
  },
  {
   "cell_type": "code",
   "execution_count": 66,
   "metadata": {},
   "outputs": [
    {
     "data": {
      "text/html": [
       "<div>\n",
       "<style scoped>\n",
       "    .dataframe tbody tr th:only-of-type {\n",
       "        vertical-align: middle;\n",
       "    }\n",
       "\n",
       "    .dataframe tbody tr th {\n",
       "        vertical-align: top;\n",
       "    }\n",
       "\n",
       "    .dataframe thead th {\n",
       "        text-align: right;\n",
       "    }\n",
       "</style>\n",
       "<table border=\"1\" class=\"dataframe\">\n",
       "  <thead>\n",
       "    <tr style=\"text-align: right;\">\n",
       "      <th></th>\n",
       "      <th>sku</th>\n",
       "      <th>size</th>\n",
       "      <th>updated_at</th>\n",
       "      <th>available</th>\n",
       "    </tr>\n",
       "  </thead>\n",
       "  <tbody>\n",
       "    <tr>\n",
       "      <th>0</th>\n",
       "      <td>77</td>\n",
       "      <td>275</td>\n",
       "      <td>2023-12-01 21:05:33</td>\n",
       "      <td>1</td>\n",
       "    </tr>\n",
       "    <tr>\n",
       "      <th>1</th>\n",
       "      <td>77</td>\n",
       "      <td>280</td>\n",
       "      <td>2023-12-01 21:05:33</td>\n",
       "      <td>1</td>\n",
       "    </tr>\n",
       "    <tr>\n",
       "      <th>2</th>\n",
       "      <td>77</td>\n",
       "      <td>285</td>\n",
       "      <td>2023-12-01 21:05:33</td>\n",
       "      <td>1</td>\n",
       "    </tr>\n",
       "    <tr>\n",
       "      <th>3</th>\n",
       "      <td>77</td>\n",
       "      <td>290</td>\n",
       "      <td>2023-12-01 21:05:33</td>\n",
       "      <td>1</td>\n",
       "    </tr>\n",
       "    <tr>\n",
       "      <th>4</th>\n",
       "      <td>77</td>\n",
       "      <td>295</td>\n",
       "      <td>2023-12-01 21:05:33</td>\n",
       "      <td>1</td>\n",
       "    </tr>\n",
       "    <tr>\n",
       "      <th>...</th>\n",
       "      <td>...</td>\n",
       "      <td>...</td>\n",
       "      <td>...</td>\n",
       "      <td>...</td>\n",
       "    </tr>\n",
       "    <tr>\n",
       "      <th>83</th>\n",
       "      <td>102</td>\n",
       "      <td>L</td>\n",
       "      <td>2023-12-01 21:05:37</td>\n",
       "      <td>1</td>\n",
       "    </tr>\n",
       "    <tr>\n",
       "      <th>84</th>\n",
       "      <td>113</td>\n",
       "      <td>ONE SIZE</td>\n",
       "      <td>2023-12-01 21:06:32</td>\n",
       "      <td>1</td>\n",
       "    </tr>\n",
       "    <tr>\n",
       "      <th>85</th>\n",
       "      <td>110</td>\n",
       "      <td>ONE SIZE</td>\n",
       "      <td>2023-12-01 21:06:35</td>\n",
       "      <td>1</td>\n",
       "    </tr>\n",
       "    <tr>\n",
       "      <th>86</th>\n",
       "      <td>111</td>\n",
       "      <td>ONE SIZE</td>\n",
       "      <td>2023-12-01 21:06:38</td>\n",
       "      <td>1</td>\n",
       "    </tr>\n",
       "    <tr>\n",
       "      <th>87</th>\n",
       "      <td>109</td>\n",
       "      <td>ONE SIZE</td>\n",
       "      <td>2023-12-01 21:06:41</td>\n",
       "      <td>1</td>\n",
       "    </tr>\n",
       "  </tbody>\n",
       "</table>\n",
       "<p>83 rows × 4 columns</p>\n",
       "</div>"
      ],
      "text/plain": [
       "    sku      size          updated_at  available\n",
       "0    77       275 2023-12-01 21:05:33          1\n",
       "1    77       280 2023-12-01 21:05:33          1\n",
       "2    77       285 2023-12-01 21:05:33          1\n",
       "3    77       290 2023-12-01 21:05:33          1\n",
       "4    77       295 2023-12-01 21:05:33          1\n",
       "..  ...       ...                 ...        ...\n",
       "83  102         L 2023-12-01 21:05:37          1\n",
       "84  113  ONE SIZE 2023-12-01 21:06:32          1\n",
       "85  110  ONE SIZE 2023-12-01 21:06:35          1\n",
       "86  111  ONE SIZE 2023-12-01 21:06:38          1\n",
       "87  109  ONE SIZE 2023-12-01 21:06:41          1\n",
       "\n",
       "[83 rows x 4 columns]"
      ]
     },
     "execution_count": 66,
     "metadata": {},
     "output_type": "execute_result"
    }
   ],
   "source": [
    "size_table = pd.merge(sku_prod_id_sh_pro_id,shop_product_size_table,on='shop_product_card_id',how='left')\n",
    "size_table = size_table[['sku','kor_product_size','updated_at']]\n",
    "size_table = size_table.drop_duplicates(subset=['sku','kor_product_size'])\n",
    "size_table['available'] = 1\n",
    "\n",
    "size_table.rename(columns={'kor_product_size':'size'},inplace=True)\n",
    "\n",
    "size_table"
   ]
  },
  {
   "cell_type": "code",
   "execution_count": 67,
   "metadata": {},
   "outputs": [],
   "source": [
    "data_name = size_table[\"updated_at\"][0].strftime(\"%Y%m%d-%H%M%S\")\n",
    "path = 'batch'\n",
    "size_table.to_parquet(f\"{path}/{data_name}.parquet.gzip\", compression=\"gzip\")"
   ]
  }
 ],
 "metadata": {
  "kernelspec": {
   "display_name": "Python 3",
   "language": "python",
   "name": "python3"
  },
  "language_info": {
   "codemirror_mode": {
    "name": "ipython",
    "version": 3
   },
   "file_extension": ".py",
   "mimetype": "text/x-python",
   "name": "python",
   "nbconvert_exporter": "python",
   "pygments_lexer": "ipython3",
   "version": "3.11.6"
  }
 },
 "nbformat": 4,
 "nbformat_minor": 2
}
