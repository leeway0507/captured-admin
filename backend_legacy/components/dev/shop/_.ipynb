{
 "cells": [
  {
   "cell_type": "code",
   "execution_count": 1,
   "metadata": {},
   "outputs": [],
   "source": [
    "import os\n",
    "\n",
    "os.chdir(\"../../../\")"
   ]
  },
  {
   "cell_type": "code",
   "execution_count": 5,
   "metadata": {},
   "outputs": [],
   "source": [
    "from components.dev.shop.load_scrap_result import get_scrap_size_product_id_dict\n",
    "from components.dev.shop.update_to_db import update_product_id_by_shop_product_card_id\n",
    "from db.dev_db import session_local"
   ]
  },
  {
   "cell_type": "code",
   "execution_count": 52,
   "metadata": {},
   "outputs": [
    {
     "name": "stdout",
     "output_type": "stream",
     "text": [
      "<sqlalchemy.engine.cursor.CursorResult object at 0x13cac55d0>\n"
     ]
    }
   ],
   "source": [
    "from sqlalchemy import select, and_, bindparam, null,update\n",
    "from db.tables_shop import ShopProductCardTable\n",
    "\n",
    "\n",
    "data = get_scrap_size_product_id_dict(\"231226-112531\")\n",
    "async with session_local() as session:  # type: ignore\n",
    "    product_id_info = data.get(\"data\")\n",
    "    stmt = (\n",
    "        update(ShopProductCardTable).where(\n",
    "            and_(\n",
    "                ShopProductCardTable.shop_product_card_id == bindparam(\"key\"),\n",
    "                # ShopProductCardTable.product_id.in_([null(), \"-\"]),\n",
    "            )\n",
    "        )\n",
    "        .values(product_id=bindparam(\"value\"))\n",
    "    )\n",
    "    result = await session.execute(stmt, product_id_info)\n",
    "    await session.commit()\n",
    "    print(result)"
   ]
  }
 ],
 "metadata": {
  "kernelspec": {
   "display_name": "Python 3",
   "language": "python",
   "name": "python3"
  },
  "language_info": {
   "codemirror_mode": {
    "name": "ipython",
    "version": 3
   },
   "file_extension": ".py",
   "mimetype": "text/x-python",
   "name": "python",
   "nbconvert_exporter": "python",
   "pygments_lexer": "ipython3",
   "version": "3.11.6"
  }
 },
 "nbformat": 4,
 "nbformat_minor": 2
}
